{
 "cells": [
  {
   "cell_type": "markdown",
   "metadata": {
    "editable": true,
    "slideshow": {
     "slide_type": ""
    },
    "tags": [
     "title"
    ]
   },
   "source": [
    "# Exploring Luxembourg's Carnival through Digital Press Archives: A Case Study of Luxembourg City and Esch (1880-1970)"
   ]
  },
  {
   "cell_type": "markdown",
   "metadata": {
    "tags": [
     "contributor"
    ]
   },
   "source": [
    " ### Elisabeth Guerard [![orcid](https://orcid.org/sites/default/files/images/orcid_16x16.png)](https://orcid.org/0000-0001-7742-4141) \n",
    "University of Luxembourg"
   ]
  },
  {
   "cell_type": "markdown",
   "metadata": {
    "tags": [
     "abstract"
    ]
   },
   "source": [
    "This research proposes to examine carnival celebrations in Luxembourg's two main urban centers through the lens of digitized historical newspapers, using the Impresso (https://impresso-project.ch/) platform's corpus and API. Our study aims to understand how carnival practices were reported and evolved in Luxembourg City and Esch-sur-Alzette, with particular attention to the period spanning both World Wars.\n",
    "\n",
    "By analyzing newspaper coverage, we will investigate several aspects of carnival culture: the types of events that received press attention, their locations (both indoor and outdoor venues), and their social accessibility as reflected in mask and ticket prices. The study will also explore how newspapers depicted different social groups and reported on public behavior during festivities.\n",
    "\n",
    "Our methodology combines basic text analysis with geographical mapping to track mentions of venues, events, and prices. Special attention will be given to specific carnival formats like the \"bal travesti\" and their evolution over time. We will also examine how commercial aspects of carnival were presented through advertisement analysis.\n",
    "\n",
    "The research will be conducted using Jupyter notebooks, making our methodology transparent and allowing other researchers to verify and build upon our findings. Through this initial exploration of Luxembourg's carnival traditions, we hope to contribute to our understanding of this important cultural practice while testing the potential of digital newspaper archives for cultural historical research."
   ]
  },
  {
   "cell_type": "markdown",
   "metadata": {},
   "source": [
    "## Introduction"
   ]
  },
  {
   "cell_type": "markdown",
   "metadata": {},
   "source": [
    ":::{figure} ./media/placeholder.png\n",
    ":name: myFigure\n",
    ":alt: Random image of the beach or ocean!\n",
    ":align: center\n",
    "\n",
    "Randomized beach and ocean images from Unsplash 🏖\n",
    ":::\n",
    "\n",
    "Check out [](#myFigure)!!"
   ]
  },
  {
   "cell_type": "markdown",
   "metadata": {},
   "source": []
  },
  {
   "cell_type": "markdown",
   "metadata": {
    "tags": [
     "hidden"
    ]
   },
   "source": []
  },
  {
   "cell_type": "code",
   "execution_count": 1,
   "metadata": {
    "editable": true,
    "slideshow": {
     "slide_type": ""
    },
    "tags": []
   },
   "outputs": [
    {
     "name": "stdout",
     "output_type": "stream",
     "text": [
      "Python 3.12.9\n"
     ]
    }
   ],
   "source": [
    "!python -V"
   ]
  },
  {
   "cell_type": "code",
   "execution_count": 1,
   "metadata": {
    "editable": true,
    "slideshow": {
     "slide_type": ""
    },
    "tags": []
   },
   "outputs": [],
   "source": [
    "# pandas package needs to be added to the requirements.txt 's file \n",
    "import pandas as pd\n"
   ]
  },
  {
   "cell_type": "code",
   "execution_count": null,
   "metadata": {},
   "outputs": [],
   "source": []
  }
 ],
 "metadata": {
  "celltoolbar": "Tags",
  "citation-manager": {
   "items": {}
  },
  "kernelspec": {
   "display_name": "Python 3 (ipykernel)",
   "language": "python",
   "name": "python3"
  },
  "language_info": {
   "codemirror_mode": {
    "name": "ipython",
    "version": 3
   },
   "file_extension": ".py",
   "mimetype": "text/x-python",
   "name": "python",
   "nbconvert_exporter": "python",
   "pygments_lexer": "ipython3",
   "version": "3.12.9"
  },
  "toc": {
   "base_numbering": 1,
   "nav_menu": {},
   "number_sections": true,
   "sideBar": true,
   "skip_h1_title": false,
   "title_cell": "Table of Contents",
   "title_sidebar": "Contents",
   "toc_cell": false,
   "toc_position": {},
   "toc_section_display": true,
   "toc_window_display": false
  }
 },
 "nbformat": 4,
 "nbformat_minor": 4
}
