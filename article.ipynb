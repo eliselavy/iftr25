{
 "cells": [
  {
   "cell_type": "markdown",
   "metadata": {
    "editable": true,
    "slideshow": {
     "slide_type": ""
    },
    "tags": [
     "title"
    ]
   },
   "source": [
    "# Exploring Luxembourg's Carnival through Digital Press Archives: A Case Study of Luxembourg City and Esch (1880-1970)"
   ]
  },
  {
   "cell_type": "markdown",
   "metadata": {
    "tags": [
     "contributor"
    ]
   },
   "source": [
    " ### Elisabeth Guerard [![orcid](https://orcid.org/sites/default/files/images/orcid_16x16.png)](https://orcid.org/0000-0001-7742-4141) \n",
    "University of Luxembourg"
   ]
  },
  {
   "cell_type": "markdown",
   "metadata": {
    "tags": [
     "abstract"
    ]
   },
   "source": [
    "This research proposes to examine carnival celebrations in Luxembourg's two main urban centers through the lens of digitized historical newspapers, using the Impresso (https://impresso-project.ch/) platform's corpus and API. Our study aims to understand how carnival practices were reported and evolved in Luxembourg City and Esch-sur-Alzette, with particular attention to the period spanning both World Wars.\n",
    "\n",
    "By analyzing newspaper coverage, we will investigate several aspects of carnival culture: the types of events that received press attention, their locations (both indoor and outdoor venues), and their social accessibility as reflected in mask and ticket prices. The study will also explore how newspapers depicted different social groups and reported on public behavior during festivities.\n",
    "\n",
    "Our methodology combines basic text analysis with geographical mapping to track mentions of venues, events, and prices. Special attention will be given to specific carnival formats like the \"bal travesti\" and their evolution over time. We will also examine how commercial aspects of carnival were presented through advertisement analysis.\n",
    "\n",
    "The research will be conducted using Jupyter notebooks, making our methodology transparent and allowing other researchers to verify and build upon our findings. Through this initial exploration of Luxembourg's carnival traditions, we hope to contribute to our understanding of this important cultural practice while testing the potential of digital newspaper archives for cultural historical research."
   ]
  },
  {
   "cell_type": "markdown",
   "metadata": {},
   "source": [
    "## Introduction"
   ]
  },
  {
   "cell_type": "code",
   "execution_count": null,
   "metadata": {},
   "outputs": [
    {
     "name": "stdout",
     "output_type": "stream",
     "text": [
      "🎉 You are now connected to the Impresso API!  🎉\n"
     ]
    }
   ],
   "source": [
    "from impresso import connect\n",
    "impresso = connect()"
   ]
  },
  {
   "cell_type": "code",
   "execution_count": 51,
   "metadata": {},
   "outputs": [
    {
     "data": {
      "text/html": [
       "<div style=\"display: grid; grid-template-columns: minmax(200px, 1fr) auto;\">\n",
       "<div>\n",
       "<h2>Facet result</h2>\n",
       "<div>Contains <b>10</b> items (<b>0</b> - <b>10</b>) of <b>14</b> total items.</div>\n",
       "<br/>\n",
       "See this result in the <a href=\"https://impresso-project.ch/app/search?index=search&facet=type&domain=collection&p=1\">Impresso App</a>.\n",
       "</div>\n",
       "<div style=\"align-content: center;\"><img src=\"data:image/png;base64,iVBORw0KGgoAAAANSUhEUgAAA7YAAABhCAYAAADiKT2SAAAAOXRFWHRTb2Z0d2FyZQBNYXRwbG90bGliIHZlcnNpb24zLjkuMiwgaHR0cHM6Ly9tYXRwbG90bGliLm9yZy8hTgPZAAAACXBIWXMAAA9hAAAPYQGoP6dpAAACvUlEQVR4nO3b0W2DMABFUagYJPtkoYzAQtmHTdwB+KqqyrnuORO8L4sLZh9jbAAAAFD1NXsAAAAA/IawBQAAIE3YAgAAkCZsAQAASBO2AAAApAlbAAAA0oQtAAAAacIWAACANGELAABAmrAFAAAgTdgCAACQJmwBAABIE7YAAACkHbMHAAAA2/Z4vcfsDZ/mOp/77A00+GILAABAmrAFAAAgTdgCAACQJmwBAABIE7YAAACkCVsAAADShC0AAABpwhYAAIA0YQsAAECasAUAACBN2AIAAJAmbAEAAEgTtgAAAKQJWwAAANKELQAAAGnCFgAAgDRhCwAAQJqwBQAAIE3YAgAAkCZsAQAASBO2AAAApAlbAAAA0oQtAAAAacIWAACANGELAABAmrAFAAAgTdgCAACQJmwBAABIE7YAAACkCVsAAADShC0AAABpwhYAAIA0YQsAAECasAUAACBN2AIAAJAmbAEAAEgTtgAAAKQJWwAAANKELQAAAGnCFgAAgDRhCwAAQJqwBQAAIO2YPQD+u8frPWZv+DTX+dxnbwAAoMMXWwAAANKELQAAAGnCFgAAgDRhCwAAQJqwBQAAIE3YAgAAkCZsAQAASBO2AAAApAlbAAAA0oQtAAAAacIWAACANGELAABAmrAFAAAgTdgCAACQJmwBAABIE7YAAACkCVsAAADShC0AAABpwhYAAIA0YQsAAECasAUAACBN2AIAAJB2zB4AAGzb4/Ueszd8mut87rM3AGtwxt6tdsYKWwAAfkQk3K0WCVCzXNg6aO8ctAAAwMr8YwsAAECasAUAACBtuavI/B3XvO9c8wYAgPmELbAkL2LuvIgBAFa1j+HZDwAAgC7/2AIAAJAmbAEAAEgTtgAAAKQJWwAAANKELQAAAGnCFgAAgDRhCwAAQJqwBQAAIE3YAgAAkPYNRXUmyaBHzxcAAAAASUVORK5CYII=\" style=\"max-width: 800px; width: 100%;\"></div>\n",
       "</div>\n",
       "<h3>Data preview:</h3>\n",
       "<div>\n",
       "<style scoped>\n",
       "    .dataframe tbody tr th:only-of-type {\n",
       "        vertical-align: middle;\n",
       "    }\n",
       "\n",
       "    .dataframe tbody tr th {\n",
       "        vertical-align: top;\n",
       "    }\n",
       "\n",
       "    .dataframe thead th {\n",
       "        text-align: right;\n",
       "    }\n",
       "</style>\n",
       "<table border=\"1\" class=\"dataframe\">\n",
       "  <thead>\n",
       "    <tr style=\"text-align: right;\">\n",
       "      <th></th>\n",
       "      <th>count</th>\n",
       "      <th>label</th>\n",
       "    </tr>\n",
       "    <tr>\n",
       "      <th>value</th>\n",
       "      <th></th>\n",
       "      <th></th>\n",
       "    </tr>\n",
       "  </thead>\n",
       "  <tbody>\n",
       "    <tr>\n",
       "      <th>local-elgu-1lI7Gbu9</th>\n",
       "      <td>85</td>\n",
       "      <td>carnavalesque</td>\n",
       "    </tr>\n",
       "    <tr>\n",
       "      <th>local-elgu-1lM_Wsz2</th>\n",
       "      <td>27</td>\n",
       "      <td>repas carnaval</td>\n",
       "    </tr>\n",
       "    <tr>\n",
       "      <th>local-elgu-2F2qwrjw</th>\n",
       "      <td>499</td>\n",
       "      <td>redoute</td>\n",
       "    </tr>\n",
       "  </tbody>\n",
       "</table>\n",
       "</div>"
      ],
      "text/plain": [
       "<impresso.resources.search.FacetDataContainer at 0x29852a750>"
      ]
     },
     "execution_count": 51,
     "metadata": {},
     "output_type": "execute_result"
    }
   ],
   "source": [
    "impresso.search.facet(\"collection\")"
   ]
  },
  {
   "cell_type": "code",
   "execution_count": null,
   "metadata": {},
   "outputs": [
    {
     "data": {
      "text/html": [
       "<div style=\"display: grid; \">\n",
       "<div>\n",
       "<h2>FindCollections result</h2>\n",
       "<div>Contains <b>10</b> items (<b>0</b> - <b>10</b>) of <b>14</b> total items.</div>\n",
       "<br/>\n",
       "See this result in the <a href=\"https://impresso-project.ch/app/collections?\">Impresso App</a>.\n",
       "</div>\n",
       "</div>\n",
       "<h3>Data preview:</h3>\n",
       "<div>\n",
       "<style scoped>\n",
       "    .dataframe tbody tr th:only-of-type {\n",
       "        vertical-align: middle;\n",
       "    }\n",
       "\n",
       "    .dataframe tbody tr th {\n",
       "        vertical-align: top;\n",
       "    }\n",
       "\n",
       "    .dataframe thead th {\n",
       "        text-align: right;\n",
       "    }\n",
       "</style>\n",
       "<table border=\"1\" class=\"dataframe\">\n",
       "  <thead>\n",
       "    <tr style=\"text-align: right;\">\n",
       "      <th></th>\n",
       "      <th>title</th>\n",
       "      <th>description</th>\n",
       "      <th>accessLevel</th>\n",
       "      <th>createdAt</th>\n",
       "      <th>updatedAt</th>\n",
       "      <th>totalItems</th>\n",
       "    </tr>\n",
       "    <tr>\n",
       "      <th>uid</th>\n",
       "      <th></th>\n",
       "      <th></th>\n",
       "      <th></th>\n",
       "      <th></th>\n",
       "      <th></th>\n",
       "      <th></th>\n",
       "    </tr>\n",
       "  </thead>\n",
       "  <tbody>\n",
       "    <tr>\n",
       "      <th>local-elgu-2F2qwrjw</th>\n",
       "      <td>redoute</td>\n",
       "      <td>containing redoute - tagged as advertisement;...</td>\n",
       "      <td>private</td>\n",
       "      <td>2025-06-09T20:03:02+00:00</td>\n",
       "      <td>2025-06-09T20:03:15.500000+00:00</td>\n",
       "      <td>499</td>\n",
       "    </tr>\n",
       "    <tr>\n",
       "      <th>local-elgu-IfsCx_3U</th>\n",
       "      <td>cavalcade</td>\n",
       "      <td>containing cavalcade - tagged as advertisemen...</td>\n",
       "      <td>private</td>\n",
       "      <td>2025-06-06T20:40:33+00:00</td>\n",
       "      <td>2025-06-06T20:40:37.902000+00:00</td>\n",
       "      <td>113</td>\n",
       "    </tr>\n",
       "    <tr>\n",
       "      <th>local-elgu-VodnHdpA</th>\n",
       "      <td>mi-careme</td>\n",
       "      <td>containing mi-carême - tagged as advertisemen...</td>\n",
       "      <td>private</td>\n",
       "      <td>2025-06-06T20:21:35+00:00</td>\n",
       "      <td>2025-06-06T20:21:39.608000+00:00</td>\n",
       "      <td>100</td>\n",
       "    </tr>\n",
       "  </tbody>\n",
       "</table>\n",
       "</div>"
      ],
      "text/plain": [
       "<impresso.resources.collections.FindCollectionsContainer at 0x286a467b0>"
      ]
     },
     "execution_count": 30,
     "metadata": {},
     "output_type": "execute_result"
    }
   ],
   "source": [
    "result = impresso.collections.find()\n",
    "result"
   ]
  },
  {
   "cell_type": "code",
   "execution_count": 52,
   "metadata": {},
   "outputs": [
    {
     "name": "stdout",
     "output_type": "stream",
     "text": [
      "10 collections found\n",
      "First collection contains 10023 items\n",
      "Got first 100 items in the collection. The first item is: Publicité 15 Page 4\n"
     ]
    }
   ],
   "source": [
    "# By running this cell, you can find collections you have created (results ordered by size in descending order):\n",
    "result = impresso.collections.find(order_by=\"-size\")\n",
    "\n",
    "# If no collections are found, print 'No collections found'\n",
    "if result.size == 0:\n",
    "    \"No collections found\"\n",
    "\n",
    "# If collections are found, print number of collections, how many itens the first (biggest) collection contains, and the first item of the first collection\n",
    "\n",
    "else:\n",
    "    print(\"%s collections found\" % result.size)\n",
    "    first_collection_id = result.df.index[0]\n",
    "    print(\"First collection contains %i items\" % result.df[\"totalItems\"].iloc[0])\n",
    "    \n",
    "    first_collection_items = impresso.search.find(collection_id=first_collection_id)\n",
    "    print(\n",
    "        \"Got first %i items in the collection. The first item is: %s\" % \\\n",
    "        (first_collection_items.size, first_collection_items.df[\"title\"].iloc[0])\n",
    "    )"
   ]
  },
  {
   "cell_type": "code",
   "execution_count": 70,
   "metadata": {},
   "outputs": [
    {
     "data": {
      "text/html": [
       "<div>\n",
       "<style scoped>\n",
       "    .dataframe tbody tr th:only-of-type {\n",
       "        vertical-align: middle;\n",
       "    }\n",
       "\n",
       "    .dataframe tbody tr th {\n",
       "        vertical-align: top;\n",
       "    }\n",
       "\n",
       "    .dataframe thead th {\n",
       "        text-align: right;\n",
       "    }\n",
       "</style>\n",
       "<table border=\"1\" class=\"dataframe\">\n",
       "  <thead>\n",
       "    <tr style=\"text-align: right;\">\n",
       "      <th></th>\n",
       "      <th>title</th>\n",
       "      <th>description</th>\n",
       "      <th>accessLevel</th>\n",
       "      <th>createdAt</th>\n",
       "      <th>updatedAt</th>\n",
       "      <th>totalItems</th>\n",
       "    </tr>\n",
       "    <tr>\n",
       "      <th>uid</th>\n",
       "      <th></th>\n",
       "      <th></th>\n",
       "      <th></th>\n",
       "      <th></th>\n",
       "      <th></th>\n",
       "      <th></th>\n",
       "    </tr>\n",
       "  </thead>\n",
       "  <tbody>\n",
       "    <tr>\n",
       "      <th>local-elgu-YtG0FE-c</th>\n",
       "      <td>permis - prix -date to extract</td>\n",
       "      <td>containing carnaval AND permis published from...</td>\n",
       "      <td>private</td>\n",
       "      <td>2025-01-10T10:34:20+00:00</td>\n",
       "      <td>2025-01-10T10:34:28.016000+00:00</td>\n",
       "      <td>10023</td>\n",
       "    </tr>\n",
       "    <tr>\n",
       "      <th>local-elgu-Y10ZFslw</th>\n",
       "      <td>carnaval_carnavalesque</td>\n",
       "      <td>containing carnaval or carnavalesque - tagged...</td>\n",
       "      <td>private</td>\n",
       "      <td>2025-05-19T15:05:36+00:00</td>\n",
       "      <td>2025-05-19T15:06:11.252000+00:00</td>\n",
       "      <td>1205</td>\n",
       "    </tr>\n",
       "    <tr>\n",
       "      <th>local-elgu-2F2qwrjw</th>\n",
       "      <td>redoute</td>\n",
       "      <td>containing redoute - tagged as advertisement;...</td>\n",
       "      <td>private</td>\n",
       "      <td>2025-06-09T20:03:02+00:00</td>\n",
       "      <td>2025-06-09T20:03:15.500000+00:00</td>\n",
       "      <td>499</td>\n",
       "    </tr>\n",
       "    <tr>\n",
       "      <th>local-elgu-rSHnRZY3</th>\n",
       "      <td>bal and travesti</td>\n",
       "      <td>containing  bal and travesti published from J...</td>\n",
       "      <td>private</td>\n",
       "      <td>2025-04-07T19:16:06+00:00</td>\n",
       "      <td>2025-04-07T19:16:11.648000+00:00</td>\n",
       "      <td>122</td>\n",
       "    </tr>\n",
       "    <tr>\n",
       "      <th>local-elgu-IfsCx_3U</th>\n",
       "      <td>cavalcade</td>\n",
       "      <td>containing cavalcade - tagged as advertisemen...</td>\n",
       "      <td>private</td>\n",
       "      <td>2025-06-06T20:40:33+00:00</td>\n",
       "      <td>2025-06-06T20:40:37.902000+00:00</td>\n",
       "      <td>113</td>\n",
       "    </tr>\n",
       "    <tr>\n",
       "      <th>local-elgu-VodnHdpA</th>\n",
       "      <td>mi-careme</td>\n",
       "      <td>containing mi-carême - tagged as advertisemen...</td>\n",
       "      <td>private</td>\n",
       "      <td>2025-06-06T20:21:35+00:00</td>\n",
       "      <td>2025-06-06T20:21:39.608000+00:00</td>\n",
       "      <td>100</td>\n",
       "    </tr>\n",
       "    <tr>\n",
       "      <th>local-elgu-1lI7Gbu9</th>\n",
       "      <td>carnavalesque</td>\n",
       "      <td>containing carnavalesque - tagged as advertis...</td>\n",
       "      <td>private</td>\n",
       "      <td>2025-04-14T14:19:26+00:00</td>\n",
       "      <td>2025-04-14T14:19:29.710000+00:00</td>\n",
       "      <td>85</td>\n",
       "    </tr>\n",
       "    <tr>\n",
       "      <th>local-elgu-dr3jMYht</th>\n",
       "      <td>bal masqué annonce</td>\n",
       "      <td></td>\n",
       "      <td>private</td>\n",
       "      <td>2025-04-06T14:51:10+00:00</td>\n",
       "      <td>2025-04-14T14:12:52.285000+00:00</td>\n",
       "      <td>44</td>\n",
       "    </tr>\n",
       "    <tr>\n",
       "      <th>local-elgu-1lM_Wsz2</th>\n",
       "      <td>repas carnaval</td>\n",
       "      <td>containing carnaval or carnavalesque AND menu...</td>\n",
       "      <td>private</td>\n",
       "      <td>2025-05-19T20:36:52+00:00</td>\n",
       "      <td>2025-05-19T20:36:54.089000+00:00</td>\n",
       "      <td>27</td>\n",
       "    </tr>\n",
       "    <tr>\n",
       "      <th>local-elgu-k7M2C1ab</th>\n",
       "      <td>le carnaval se meurt</td>\n",
       "      <td></td>\n",
       "      <td>private</td>\n",
       "      <td>2025-04-07T14:53:11+00:00</td>\n",
       "      <td>2025-05-27T15:24:59.909000+00:00</td>\n",
       "      <td>8</td>\n",
       "    </tr>\n",
       "  </tbody>\n",
       "</table>\n",
       "</div>"
      ],
      "text/plain": [
       "                                              title  \\\n",
       "uid                                                   \n",
       "local-elgu-YtG0FE-c  permis - prix -date to extract   \n",
       "local-elgu-Y10ZFslw          carnaval_carnavalesque   \n",
       "local-elgu-2F2qwrjw                         redoute   \n",
       "local-elgu-rSHnRZY3                bal and travesti   \n",
       "local-elgu-IfsCx_3U                       cavalcade   \n",
       "local-elgu-VodnHdpA                       mi-careme   \n",
       "local-elgu-1lI7Gbu9                   carnavalesque   \n",
       "local-elgu-dr3jMYht              bal masqué annonce   \n",
       "local-elgu-1lM_Wsz2                  repas carnaval   \n",
       "local-elgu-k7M2C1ab            le carnaval se meurt   \n",
       "\n",
       "                                                           description  \\\n",
       "uid                                                                      \n",
       "local-elgu-YtG0FE-c   containing carnaval AND permis published from...   \n",
       "local-elgu-Y10ZFslw   containing carnaval or carnavalesque - tagged...   \n",
       "local-elgu-2F2qwrjw   containing redoute - tagged as advertisement;...   \n",
       "local-elgu-rSHnRZY3   containing  bal and travesti published from J...   \n",
       "local-elgu-IfsCx_3U   containing cavalcade - tagged as advertisemen...   \n",
       "local-elgu-VodnHdpA   containing mi-carême - tagged as advertisemen...   \n",
       "local-elgu-1lI7Gbu9   containing carnavalesque - tagged as advertis...   \n",
       "local-elgu-dr3jMYht                                                      \n",
       "local-elgu-1lM_Wsz2   containing carnaval or carnavalesque AND menu...   \n",
       "local-elgu-k7M2C1ab                                                      \n",
       "\n",
       "                    accessLevel                  createdAt  \\\n",
       "uid                                                          \n",
       "local-elgu-YtG0FE-c     private  2025-01-10T10:34:20+00:00   \n",
       "local-elgu-Y10ZFslw     private  2025-05-19T15:05:36+00:00   \n",
       "local-elgu-2F2qwrjw     private  2025-06-09T20:03:02+00:00   \n",
       "local-elgu-rSHnRZY3     private  2025-04-07T19:16:06+00:00   \n",
       "local-elgu-IfsCx_3U     private  2025-06-06T20:40:33+00:00   \n",
       "local-elgu-VodnHdpA     private  2025-06-06T20:21:35+00:00   \n",
       "local-elgu-1lI7Gbu9     private  2025-04-14T14:19:26+00:00   \n",
       "local-elgu-dr3jMYht     private  2025-04-06T14:51:10+00:00   \n",
       "local-elgu-1lM_Wsz2     private  2025-05-19T20:36:52+00:00   \n",
       "local-elgu-k7M2C1ab     private  2025-04-07T14:53:11+00:00   \n",
       "\n",
       "                                            updatedAt  totalItems  \n",
       "uid                                                                \n",
       "local-elgu-YtG0FE-c  2025-01-10T10:34:28.016000+00:00       10023  \n",
       "local-elgu-Y10ZFslw  2025-05-19T15:06:11.252000+00:00        1205  \n",
       "local-elgu-2F2qwrjw  2025-06-09T20:03:15.500000+00:00         499  \n",
       "local-elgu-rSHnRZY3  2025-04-07T19:16:11.648000+00:00         122  \n",
       "local-elgu-IfsCx_3U  2025-06-06T20:40:37.902000+00:00         113  \n",
       "local-elgu-VodnHdpA  2025-06-06T20:21:39.608000+00:00         100  \n",
       "local-elgu-1lI7Gbu9  2025-04-14T14:19:29.710000+00:00          85  \n",
       "local-elgu-dr3jMYht  2025-04-14T14:12:52.285000+00:00          44  \n",
       "local-elgu-1lM_Wsz2  2025-05-19T20:36:54.089000+00:00          27  \n",
       "local-elgu-k7M2C1ab  2025-05-27T15:24:59.909000+00:00           8  "
      ]
     },
     "execution_count": 70,
     "metadata": {},
     "output_type": "execute_result"
    }
   ],
   "source": [
    "result.df"
   ]
  },
  {
   "cell_type": "code",
   "execution_count": null,
   "metadata": {},
   "outputs": [
    {
     "data": {
      "image/svg+xml": [
       "<svg xmlns=\"http://www.w3.org/2000/svg\" viewBox=\"0 0 800 600\">\n",
       "  <!-- Central Advertisement Box -->\n",
       "  <rect x=\"300\" y=\"250\" width=\"200\" height=\"100\" fill=\"#FFE4B5\" stroke=\"#8B4513\" stroke-width=\"3\" rx=\"10\"/>\n",
       "  <text x=\"400\" y=\"290\" text-anchor=\"middle\" font-family=\"Arial, sans-serif\" font-size=\"18\" font-weight=\"bold\" fill=\"#8B4513\">\n",
       "    ADVERTISEMENT\n",
       "  </text>\n",
       " \n",
       "  <!-- Title -->\n",
       "  <text x=\"500\" y=\"30\" text-anchor=\"middle\" font-family=\"Arial, sans-serif\" font-size=\"18\" font-weight=\"bold\" fill=\"#333\">\n",
       "    Data gathering prepare\n",
       "  </text>\n",
       "\n",
       "  <!-- Arrows and Labels -->\n",
       "  \n",
       "  <!-- redoute (top-left) -->\n",
       "  <text x=\"150\" y=\"120\" text-anchor=\"middle\" font-family=\"Arial, sans-serif\" font-size=\"16\" font-weight=\"bold\" fill=\"#4169E1\">\n",
       "    Redoute\n",
       "  </text>\n",
       "  <line x1=\"200\" y1=\"140\" x2=\"320\" y2=\"240\" stroke=\"#4169E1\" stroke-width=\"2\" marker-end=\"url(#arrowhead)\"/>\n",
       "  \n",
       "  <!-- mi-carême (top-right) -->\n",
       "  <text x=\"650\" y=\"120\" text-anchor=\"middle\" font-family=\"Arial, sans-serif\" font-size=\"16\" font-weight=\"bold\" fill=\"#DC143C\">\n",
       "    Mi-carême\n",
       "  </text>\n",
       "  <line x1=\"600\" y1=\"140\" x2=\"480\" y2=\"240\" stroke=\"#DC143C\" stroke-width=\"2\" marker-end=\"url(#arrowhead)\"/>\n",
       "  \n",
       "  <!-- carnaval (left) -->\n",
       "  <text x=\"120\" y=\"300\" text-anchor=\"middle\" font-family=\"Arial, sans-serif\" font-size=\"16\" font-weight=\"bold\" fill=\"#32CD32\">\n",
       "    Carnaval\n",
       "  </text>\n",
       "  <line x1=\"180\" y1=\"300\" x2=\"290\" y2=\"300\" stroke=\"#32CD32\" stroke-width=\"2\" marker-end=\"url(#arrowhead)\"/>\n",
       "  \n",
       "  <!-- carnavalesque (right) -->\n",
       "  <text x=\"680\" y=\"300\" text-anchor=\"middle\" font-family=\"Arial, sans-serif\" font-size=\"16\" font-weight=\"bold\" fill=\"#FF8C00\">\n",
       "    Carnavalesque\n",
       "  </text>\n",
       "  <line x1=\"620\" y1=\"300\" x2=\"510\" y2=\"300\" stroke=\"#FF8C00\" stroke-width=\"2\" marker-end=\"url(#arrowhead)\"/>\n",
       "  \n",
       "  <!-- cavalcade (bottom-left) -->\n",
       "  <text x=\"150\" y=\"480\" text-anchor=\"middle\" font-family=\"Arial, sans-serif\" font-size=\"16\" font-weight=\"bold\" fill=\"#9932CC\">\n",
       "    Cavalcade\n",
       "  </text>\n",
       "  <line x1=\"200\" y1=\"460\" x2=\"320\" y2=\"360\" stroke=\"#9932CC\" stroke-width=\"2\" marker-end=\"url(#arrowhead)\"/>\n",
       "  \n",
       "  <!-- bal travesti (bottom-right) -->\n",
       "  <text x=\"650\" y=\"480\" text-anchor=\"middle\" font-family=\"Arial, sans-serif\" font-size=\"16\" font-weight=\"bold\" fill=\"#FF1493\">\n",
       "    Bal travesti\n",
       "  </text>\n",
       "  <line x1=\"600\" y1=\"460\" x2=\"480\" y2=\"360\" stroke=\"#FF1493\" stroke-width=\"2\" marker-end=\"url(#arrowhead)\"/>\n",
       "\n",
       "  <!-- Arrow marker definition -->\n",
       "  <defs>\n",
       "    <marker id=\"arrowhead\" markerWidth=\"10\" markerHeight=\"7\" refX=\"9\" refY=\"3.5\" orient=\"auto\">\n",
       "      <polygon points=\"0 0, 10 3.5, 0 7\" fill=\"currentColor\"/>\n",
       "    </marker>\n",
       "  </defs>\n",
       "</svg>"
      ],
      "text/plain": [
       "<IPython.core.display.SVG object>"
      ]
     },
     "metadata": {},
     "output_type": "display_data"
    }
   ],
   "source": [
    "from IPython.display import SVG, display\n",
    "display(SVG('media/data_gathering_1_search.svg'))"
   ]
  },
  {
   "cell_type": "markdown",
   "metadata": {},
   "source": [
    "Go to work with the following collections:\n",
    "\n",
    "- local-elgu-Y10ZFslw\tcarnaval_carnavalesque\n",
    "- local-elgu-2F2qwrjw\tredoute\n",
    "- local-elgu-rSHnRZY3\tbal and travesti\n",
    "- local-elgu-IfsCx_3U\tcavalcade\n",
    "- local-elgu-VodnHdpA\tmi-careme\n",
    "- local-elgu-1lI7Gbu9\tcarnavalesque"
   ]
  },
  {
   "cell_type": "code",
   "execution_count": 84,
   "metadata": {
    "tags": [
     "hidden"
    ]
   },
   "outputs": [
    {
     "name": "stdout",
     "output_type": "stream",
     "text": [
      "Collection local-elgu-Y10ZFslw has 1000 items\n",
      "Collection local-elgu-2F2qwrjw has 499 items\n",
      "Collection local-elgu-rSHnRZY3 has 122 items\n",
      "Collection local-elgu-IfsCx_3U has 113 items\n",
      "Collection local-elgu-VodnHdpA has 100 items\n",
      "Collection local-elgu-1lI7Gbu9 has 85 items\n"
     ]
    }
   ],
   "source": [
    "# Debug: Print the number of items in each collection before concatenation\n",
    "import pandas as pd\n",
    "\n",
    "collection_ids = [\"local-elgu-Y10ZFslw\",\"local-elgu-2F2qwrjw\",\"local-elgu-rSHnRZY3\",\"local-elgu-IfsCx_3U\",\"local-elgu-VodnHdpA\",\"local-elgu-1lI7Gbu9\"]\n",
    "dfs = []\n",
    "for cid in collection_ids:\n",
    "    result = impresso.collections.get(cid)\n",
    "    colection_id = result.raw[\"uid\"]\n",
    "    items = impresso.collections.items(colection_id, limit=4000)\n",
    "    print(f\"Collection {cid} has {items.size} items\")\n",
    "    df_temp = items.df\n",
    "    dfs.append(df_temp)\n",
    "\n",
    "# Concatenate all dataframes\n",
    "df_all = pd.concat(dfs)\n",
    "\n",
    "# Drop duplicate indices to ensure unique index (keeping the first occurrence)\n",
    "df_all = df_all[~df_all.index.duplicated(keep='first')]\n",
    "\n",
    "# Save to CSV\n",
    "df_all.to_csv('dataset/all_advertsement_unique.csv', index=True)"
   ]
  },
  {
   "cell_type": "markdown",
   "metadata": {},
   "source": [
    "1919 items - 1781 items"
   ]
  },
  {
   "cell_type": "code",
   "execution_count": 92,
   "metadata": {},
   "outputs": [],
   "source": [
    "# Try semicolon separator\n",
    "df_extra = pd.read_csv('dataset/collection_local-elgu-Y10ZFslw.csv', \n",
    "                      index_col=0, \n",
    "                      sep=';')"
   ]
  },
  {
   "cell_type": "code",
   "execution_count": 93,
   "metadata": {},
   "outputs": [],
   "source": [
    "# due to limitation to 1000 items per collections\n",
    "# load the collection exported by the impresso app and concatenate to the other\n",
    "# Load the exported collection as a DataFrame\n",
    "\n",
    "\n",
    "# Concatenate with df_all and drop duplicates based on the index\n",
    "df_all = pd.concat([df_all, df_extra])\n",
    "df_all = df_all[~df_all.index.duplicated(keep='first')]\n",
    "\n",
    "# Save the updated DataFrame to CSV\n",
    "df_all.to_csv('dataset/all_collections_unique.csv', index=True)"
   ]
  },
  {
   "cell_type": "markdown",
   "metadata": {},
   "source": [
    "1944 items"
   ]
  },
  {
   "cell_type": "markdown",
   "metadata": {},
   "source": [
    "### Data cleaning"
   ]
  },
  {
   "cell_type": "code",
   "execution_count": 35,
   "metadata": {},
   "outputs": [
    {
     "data": {
      "image/svg+xml": [
       "<svg xmlns=\"http://www.w3.org/2000/svg\" viewBox=\"0 0 1100 300\">\n",
       "  <!-- Step 1: Aggregate Collections -->\n",
       "  <rect x=\"20\" y=\"120\" width=\"140\" height=\"60\" fill=\"#E8F4FD\" stroke=\"#2196F3\" stroke-width=\"2\" rx=\"5\"/>\n",
       "  <text x=\"90\" y=\"140\" text-anchor=\"middle\" font-family=\"Arial, sans-serif\" font-size=\"12\" font-weight=\"bold\" fill=\"#1976D2\">\n",
       "    Aggregate\n",
       "  </text>\n",
       "  <text x=\"90\" y=\"155\" text-anchor=\"middle\" font-family=\"Arial, sans-serif\" font-size=\"12\" fill=\"#1976D2\">\n",
       "    Collections\n",
       "  </text>\n",
       "  \n",
       "  <!-- Arrow 1 -->\n",
       "  <line x1=\"160\" y1=\"150\" x2=\"190\" y2=\"150\" stroke=\"#666\" stroke-width=\"2\"/>\n",
       "  <polygon points=\"190,145 200,150 190,155\" fill=\"#666\"/>\n",
       "  \n",
       "  <!-- Step 2: Eliminate Duplicates -->\n",
       "  <rect x=\"200\" y=\"120\" width=\"140\" height=\"60\" fill=\"#FFF3E0\" stroke=\"#FF9800\" stroke-width=\"2\" rx=\"5\"/>\n",
       "  <text x=\"270\" y=\"140\" text-anchor=\"middle\" font-family=\"Arial, sans-serif\" font-size=\"12\" font-weight=\"bold\" fill=\"#F57C00\">\n",
       "    Eliminate\n",
       "  </text>\n",
       "  <text x=\"270\" y=\"155\" text-anchor=\"middle\" font-family=\"Arial, sans-serif\" font-size=\"12\" fill=\"#F57C00\">\n",
       "    Duplicates\n",
       "  </text>\n",
       "  \n",
       "  <!-- Arrow 2 -->\n",
       "  <line x1=\"340\" y1=\"150\" x2=\"370\" y2=\"150\" stroke=\"#666\" stroke-width=\"2\"/>\n",
       "  <polygon points=\"370,145 380,150 370,155\" fill=\"#666\"/>\n",
       "  \n",
       "  <!-- Step 3: Keep Relevant Info -->\n",
       "  <rect x=\"380\" y=\"120\" width=\"140\" height=\"60\" fill=\"#E8F5E8\" stroke=\"#4CAF50\" stroke-width=\"2\" rx=\"5\"/>\n",
       "  <text x=\"450\" y=\"140\" text-anchor=\"middle\" font-family=\"Arial, sans-serif\" font-size=\"12\" font-weight=\"bold\" fill=\"#388E3C\">\n",
       "    Keep Only\n",
       "  </text>\n",
       "  <text x=\"450\" y=\"155\" text-anchor=\"middle\" font-family=\"Arial, sans-serif\" font-size=\"12\" fill=\"#388E3C\">\n",
       "    Relevant Info\n",
       "  </text>\n",
       "  \n",
       "  <!-- Arrow 3 -->\n",
       "  <line x1=\"520\" y1=\"150\" x2=\"550\" y2=\"150\" stroke=\"#666\" stroke-width=\"2\"/>\n",
       "  <polygon points=\"550,145 560,150 550,155\" fill=\"#666\"/>\n",
       "  \n",
       "  <!-- Step 4: Reformat Date -->\n",
       "  <rect x=\"560\" y=\"120\" width=\"140\" height=\"60\" fill=\"#F3E5F5\" stroke=\"#9C27B0\" stroke-width=\"2\" rx=\"5\"/>\n",
       "  <text x=\"630\" y=\"140\" text-anchor=\"middle\" font-family=\"Arial, sans-serif\" font-size=\"12\" font-weight=\"bold\" fill=\"#7B1FA2\">\n",
       "    Reformat\n",
       "  </text>\n",
       "  <text x=\"630\" y=\"155\" text-anchor=\"middle\" font-family=\"Arial, sans-serif\" font-size=\"12\" fill=\"#7B1FA2\">\n",
       "    Date\n",
       "  </text>\n",
       "  \n",
       "  <!-- Arrow 4 -->\n",
       "  <line x1=\"700\" y1=\"150\" x2=\"730\" y2=\"150\" stroke=\"#666\" stroke-width=\"2\"/>\n",
       "  <polygon points=\"730,145 740,150 730,155\" fill=\"#666\"/>\n",
       "  \n",
       "  <!-- Step 5: Isolate Month -->\n",
       "  <rect x=\"740\" y=\"120\" width=\"140\" height=\"60\" fill=\"#FFEBEE\" stroke=\"#F44336\" stroke-width=\"2\" rx=\"5\"/>\n",
       "  <text x=\"810\" y=\"140\" text-anchor=\"middle\" font-family=\"Arial, sans-serif\" font-size=\"12\" font-weight=\"bold\" fill=\"#D32F2F\">\n",
       "    Isolate\n",
       "  </text>\n",
       "  <text x=\"810\" y=\"155\" text-anchor=\"middle\" font-family=\"Arial, sans-serif\" font-size=\"12\" fill=\"#D32F2F\">\n",
       "    Month\n",
       "  </text>\n",
       "  \n",
       "  <!-- Arrow 5 -->\n",
       "  <line x1=\"880\" y1=\"150\" x2=\"910\" y2=\"150\" stroke=\"#666\" stroke-width=\"2\"/>\n",
       "  <polygon points=\"910,145 920,150 910,155\" fill=\"#666\"/>\n",
       "  \n",
       "  <!-- Step 6: Filter Month -->\n",
       "  <rect x=\"920\" y=\"120\" width=\"140\" height=\"60\" fill=\"#E0F2F1\" stroke=\"#009688\" stroke-width=\"2\" rx=\"5\"/>\n",
       "  <text x=\"990\" y=\"140\" text-anchor=\"middle\" font-family=\"Arial, sans-serif\" font-size=\"12\" font-weight=\"bold\" fill=\"#00695C\">\n",
       "    Filter\n",
       "  </text>\n",
       "  <text x=\"990\" y=\"155\" text-anchor=\"middle\" font-family=\"Arial, sans-serif\" font-size=\"12\" fill=\"#00695C\">\n",
       "    Month\n",
       "  </text>\n",
       "  \n",
       "  <!-- Title -->\n",
       "  <text x=\"500\" y=\"30\" text-anchor=\"middle\" font-family=\"Arial, sans-serif\" font-size=\"18\" font-weight=\"bold\" fill=\"#333\">\n",
       "    Data gathering prepare\n",
       "  </text>\n",
       "  \n",
       "  <!-- Step numbers -->\n",
       "  <circle cx=\"90\" cy=\"100\" r=\"12\" fill=\"#666\"/>\n",
       "  <text x=\"90\" y=\"105\" text-anchor=\"middle\" font-family=\"Arial, sans-serif\" font-size=\"10\" font-weight=\"bold\" fill=\"white\">1</text>\n",
       "  \n",
       "  <circle cx=\"270\" cy=\"100\" r=\"12\" fill=\"#666\"/>\n",
       "  <text x=\"270\" y=\"105\" text-anchor=\"middle\" font-family=\"Arial, sans-serif\" font-size=\"10\" font-weight=\"bold\" fill=\"white\">2</text>\n",
       "  \n",
       "  <circle cx=\"450\" cy=\"100\" r=\"12\" fill=\"#666\"/>\n",
       "  <text x=\"450\" y=\"105\" text-anchor=\"middle\" font-family=\"Arial, sans-serif\" font-size=\"10\" font-weight=\"bold\" fill=\"white\">3</text>\n",
       "  \n",
       "  <circle cx=\"630\" cy=\"100\" r=\"12\" fill=\"#666\"/>\n",
       "  <text x=\"630\" y=\"105\" text-anchor=\"middle\" font-family=\"Arial, sans-serif\" font-size=\"10\" font-weight=\"bold\" fill=\"white\">4</text>\n",
       "  \n",
       "  <circle cx=\"810\" cy=\"100\" r=\"12\" fill=\"#666\"/>\n",
       "  <text x=\"810\" y=\"105\" text-anchor=\"middle\" font-family=\"Arial, sans-serif\" font-size=\"10\" font-weight=\"bold\" fill=\"white\">5</text>\n",
       "  \n",
       "  <circle cx=\"990\" cy=\"100\" r=\"12\" fill=\"#666\"/>\n",
       "  <text x=\"990\" y=\"105\" text-anchor=\"middle\" font-family=\"Arial, sans-serif\" font-size=\"10\" font-weight=\"bold\" fill=\"white\">6</text>\n",
       "</svg>"
      ],
      "text/plain": [
       "<IPython.core.display.SVG object>"
      ]
     },
     "metadata": {},
     "output_type": "display_data"
    }
   ],
   "source": [
    "from IPython.display import SVG, display\n",
    "display(SVG('media/data_gathering_2_prepare.svg'))"
   ]
  },
  {
   "cell_type": "markdown",
   "metadata": {},
   "source": [
    "#### Publication date"
   ]
  },
  {
   "cell_type": "code",
   "execution_count": 94,
   "metadata": {},
   "outputs": [
    {
     "data": {
      "text/html": [
       "<div>\n",
       "<style scoped>\n",
       "    .dataframe tbody tr th:only-of-type {\n",
       "        vertical-align: middle;\n",
       "    }\n",
       "\n",
       "    .dataframe tbody tr th {\n",
       "        vertical-align: top;\n",
       "    }\n",
       "\n",
       "    .dataframe thead th {\n",
       "        text-align: right;\n",
       "    }\n",
       "</style>\n",
       "<table border=\"1\" class=\"dataframe\">\n",
       "  <thead>\n",
       "    <tr style=\"text-align: right;\">\n",
       "      <th></th>\n",
       "      <th>type</th>\n",
       "      <th>title</th>\n",
       "      <th>transcript</th>\n",
       "      <th>languageCode</th>\n",
       "      <th>publicationDate</th>\n",
       "      <th>mediaCode</th>\n",
       "    </tr>\n",
       "    <tr>\n",
       "      <th>uid</th>\n",
       "      <th></th>\n",
       "      <th></th>\n",
       "      <th></th>\n",
       "      <th></th>\n",
       "      <th></th>\n",
       "      <th></th>\n",
       "    </tr>\n",
       "  </thead>\n",
       "  <tbody>\n",
       "    <tr>\n",
       "      <th>tageblatt-1948-01-06-a-i0087</th>\n",
       "      <td>ad</td>\n",
       "      <td>Gemeinde Kayi vergibt auf dem</td>\n",
       "      <td></td>\n",
       "      <td>de</td>\n",
       "      <td>1948-01-06T00:00:00+00:00</td>\n",
       "      <td>tageblatt</td>\n",
       "    </tr>\n",
       "    <tr>\n",
       "      <th>tageblatt-1939-01-30-a-i0100</th>\n",
       "      <td>ad</td>\n",
       "      <td>CARNAVAL DE NICE Arrangements speciaux</td>\n",
       "      <td></td>\n",
       "      <td>de</td>\n",
       "      <td>1939-01-30T00:00:00+00:00</td>\n",
       "      <td>tageblatt</td>\n",
       "    </tr>\n",
       "    <tr>\n",
       "      <th>dunioun-1948-02-03-a-i0078</th>\n",
       "      <td>ad</td>\n",
       "      <td>Publicité 6 Page 6</td>\n",
       "      <td></td>\n",
       "      <td>lb</td>\n",
       "      <td>1948-02-03T00:00:00+00:00</td>\n",
       "      <td>dunioun</td>\n",
       "    </tr>\n",
       "    <tr>\n",
       "      <th>luxwort-1949-01-21-a-i0134</th>\n",
       "      <td>ad</td>\n",
       "      <td>Pub. 68 Page 9</td>\n",
       "      <td></td>\n",
       "      <td>de</td>\n",
       "      <td>1949-01-21T00:00:00+00:00</td>\n",
       "      <td>luxwort</td>\n",
       "    </tr>\n",
       "    <tr>\n",
       "      <th>tageblatt-1935-06-25-a-i0081</th>\n",
       "      <td>ad</td>\n",
       "      <td>I~J~Ji i Mercredi, le 26</td>\n",
       "      <td></td>\n",
       "      <td>de</td>\n",
       "      <td>1935-06-25T00:00:00+00:00</td>\n",
       "      <td>tageblatt</td>\n",
       "    </tr>\n",
       "  </tbody>\n",
       "</table>\n",
       "</div>"
      ],
      "text/plain": [
       "                             type                                   title  \\\n",
       "uid                                                                         \n",
       "tageblatt-1948-01-06-a-i0087   ad           Gemeinde Kayi vergibt auf dem   \n",
       "tageblatt-1939-01-30-a-i0100   ad  CARNAVAL DE NICE Arrangements speciaux   \n",
       "dunioun-1948-02-03-a-i0078     ad                      Publicité 6 Page 6   \n",
       "luxwort-1949-01-21-a-i0134     ad                          Pub. 68 Page 9   \n",
       "tageblatt-1935-06-25-a-i0081   ad                I~J~Ji i Mercredi, le 26   \n",
       "\n",
       "                             transcript languageCode  \\\n",
       "uid                                                    \n",
       "tageblatt-1948-01-06-a-i0087                      de   \n",
       "tageblatt-1939-01-30-a-i0100                      de   \n",
       "dunioun-1948-02-03-a-i0078                        lb   \n",
       "luxwort-1949-01-21-a-i0134                        de   \n",
       "tageblatt-1935-06-25-a-i0081                      de   \n",
       "\n",
       "                                        publicationDate  mediaCode  \n",
       "uid                                                                 \n",
       "tageblatt-1948-01-06-a-i0087  1948-01-06T00:00:00+00:00  tageblatt  \n",
       "tageblatt-1939-01-30-a-i0100  1939-01-30T00:00:00+00:00  tageblatt  \n",
       "dunioun-1948-02-03-a-i0078    1948-02-03T00:00:00+00:00    dunioun  \n",
       "luxwort-1949-01-21-a-i0134    1949-01-21T00:00:00+00:00    luxwort  \n",
       "tageblatt-1935-06-25-a-i0081  1935-06-25T00:00:00+00:00  tageblatt  "
      ]
     },
     "execution_count": 94,
     "metadata": {},
     "output_type": "execute_result"
    }
   ],
   "source": [
    "# Keep only the specified columns in df\n",
    "columns_to_keep = ['type', 'title', 'transcript', 'languageCode', 'publicationDate', 'mediaCode']\n",
    "df = df_all[columns_to_keep]\n",
    "df.head()"
   ]
  },
  {
   "cell_type": "code",
   "execution_count": 96,
   "metadata": {},
   "outputs": [
    {
     "data": {
      "text/html": [
       "<div>\n",
       "<style scoped>\n",
       "    .dataframe tbody tr th:only-of-type {\n",
       "        vertical-align: middle;\n",
       "    }\n",
       "\n",
       "    .dataframe tbody tr th {\n",
       "        vertical-align: top;\n",
       "    }\n",
       "\n",
       "    .dataframe thead th {\n",
       "        text-align: right;\n",
       "    }\n",
       "</style>\n",
       "<table border=\"1\" class=\"dataframe\">\n",
       "  <thead>\n",
       "    <tr style=\"text-align: right;\">\n",
       "      <th></th>\n",
       "      <th>type</th>\n",
       "      <th>title</th>\n",
       "      <th>transcript</th>\n",
       "      <th>languageCode</th>\n",
       "      <th>publicationDate</th>\n",
       "      <th>mediaCode</th>\n",
       "    </tr>\n",
       "    <tr>\n",
       "      <th>uid</th>\n",
       "      <th></th>\n",
       "      <th></th>\n",
       "      <th></th>\n",
       "      <th></th>\n",
       "      <th></th>\n",
       "      <th></th>\n",
       "    </tr>\n",
       "  </thead>\n",
       "  <tbody>\n",
       "    <tr>\n",
       "      <th>tageblatt-1948-01-06-a-i0087</th>\n",
       "      <td>ad</td>\n",
       "      <td>Gemeinde Kayi vergibt auf dem</td>\n",
       "      <td></td>\n",
       "      <td>de</td>\n",
       "      <td>1948-01-06</td>\n",
       "      <td>tageblatt</td>\n",
       "    </tr>\n",
       "    <tr>\n",
       "      <th>tageblatt-1939-01-30-a-i0100</th>\n",
       "      <td>ad</td>\n",
       "      <td>CARNAVAL DE NICE Arrangements speciaux</td>\n",
       "      <td></td>\n",
       "      <td>de</td>\n",
       "      <td>1939-01-30</td>\n",
       "      <td>tageblatt</td>\n",
       "    </tr>\n",
       "    <tr>\n",
       "      <th>dunioun-1948-02-03-a-i0078</th>\n",
       "      <td>ad</td>\n",
       "      <td>Publicité 6 Page 6</td>\n",
       "      <td></td>\n",
       "      <td>lb</td>\n",
       "      <td>1948-02-03</td>\n",
       "      <td>dunioun</td>\n",
       "    </tr>\n",
       "    <tr>\n",
       "      <th>luxwort-1949-01-21-a-i0134</th>\n",
       "      <td>ad</td>\n",
       "      <td>Pub. 68 Page 9</td>\n",
       "      <td></td>\n",
       "      <td>de</td>\n",
       "      <td>1949-01-21</td>\n",
       "      <td>luxwort</td>\n",
       "    </tr>\n",
       "    <tr>\n",
       "      <th>tageblatt-1935-06-25-a-i0081</th>\n",
       "      <td>ad</td>\n",
       "      <td>I~J~Ji i Mercredi, le 26</td>\n",
       "      <td></td>\n",
       "      <td>de</td>\n",
       "      <td>1935-06-25</td>\n",
       "      <td>tageblatt</td>\n",
       "    </tr>\n",
       "  </tbody>\n",
       "</table>\n",
       "</div>"
      ],
      "text/plain": [
       "                             type                                   title  \\\n",
       "uid                                                                         \n",
       "tageblatt-1948-01-06-a-i0087   ad           Gemeinde Kayi vergibt auf dem   \n",
       "tageblatt-1939-01-30-a-i0100   ad  CARNAVAL DE NICE Arrangements speciaux   \n",
       "dunioun-1948-02-03-a-i0078     ad                      Publicité 6 Page 6   \n",
       "luxwort-1949-01-21-a-i0134     ad                          Pub. 68 Page 9   \n",
       "tageblatt-1935-06-25-a-i0081   ad                I~J~Ji i Mercredi, le 26   \n",
       "\n",
       "                             transcript languageCode publicationDate  \\\n",
       "uid                                                                    \n",
       "tageblatt-1948-01-06-a-i0087                      de      1948-01-06   \n",
       "tageblatt-1939-01-30-a-i0100                      de      1939-01-30   \n",
       "dunioun-1948-02-03-a-i0078                        lb      1948-02-03   \n",
       "luxwort-1949-01-21-a-i0134                        de      1949-01-21   \n",
       "tageblatt-1935-06-25-a-i0081                      de      1935-06-25   \n",
       "\n",
       "                              mediaCode  \n",
       "uid                                      \n",
       "tageblatt-1948-01-06-a-i0087  tageblatt  \n",
       "tageblatt-1939-01-30-a-i0100  tageblatt  \n",
       "dunioun-1948-02-03-a-i0078      dunioun  \n",
       "luxwort-1949-01-21-a-i0134      luxwort  \n",
       "tageblatt-1935-06-25-a-i0081  tageblatt  "
      ]
     },
     "execution_count": 96,
     "metadata": {},
     "output_type": "execute_result"
    }
   ],
   "source": [
    "import pandas as pd\n",
    "# Reformat the 'publicationDate' column to 'YYYY-MM-DD' format using .loc\n",
    "\n",
    "df.loc[:, 'publicationDate'] = pd.to_datetime(df['publicationDate'], errors='coerce').dt.strftime('%Y-%m-%d')\n",
    "df.head()\n"
   ]
  },
  {
   "cell_type": "markdown",
   "metadata": {},
   "source": [
    "### Isolate months"
   ]
  },
  {
   "cell_type": "code",
   "execution_count": 97,
   "metadata": {},
   "outputs": [
    {
     "data": {
      "text/html": [
       "<div>\n",
       "<style scoped>\n",
       "    .dataframe tbody tr th:only-of-type {\n",
       "        vertical-align: middle;\n",
       "    }\n",
       "\n",
       "    .dataframe tbody tr th {\n",
       "        vertical-align: top;\n",
       "    }\n",
       "\n",
       "    .dataframe thead th {\n",
       "        text-align: right;\n",
       "    }\n",
       "</style>\n",
       "<table border=\"1\" class=\"dataframe\">\n",
       "  <thead>\n",
       "    <tr style=\"text-align: right;\">\n",
       "      <th></th>\n",
       "      <th>type</th>\n",
       "      <th>title</th>\n",
       "      <th>transcript</th>\n",
       "      <th>languageCode</th>\n",
       "      <th>publicationDate</th>\n",
       "      <th>mediaCode</th>\n",
       "      <th>publicationMonth</th>\n",
       "    </tr>\n",
       "    <tr>\n",
       "      <th>uid</th>\n",
       "      <th></th>\n",
       "      <th></th>\n",
       "      <th></th>\n",
       "      <th></th>\n",
       "      <th></th>\n",
       "      <th></th>\n",
       "      <th></th>\n",
       "    </tr>\n",
       "  </thead>\n",
       "  <tbody>\n",
       "    <tr>\n",
       "      <th>tageblatt-1948-01-06-a-i0087</th>\n",
       "      <td>ad</td>\n",
       "      <td>Gemeinde Kayi vergibt auf dem</td>\n",
       "      <td></td>\n",
       "      <td>de</td>\n",
       "      <td>1948-01-06</td>\n",
       "      <td>tageblatt</td>\n",
       "      <td>01</td>\n",
       "    </tr>\n",
       "    <tr>\n",
       "      <th>tageblatt-1939-01-30-a-i0100</th>\n",
       "      <td>ad</td>\n",
       "      <td>CARNAVAL DE NICE Arrangements speciaux</td>\n",
       "      <td></td>\n",
       "      <td>de</td>\n",
       "      <td>1939-01-30</td>\n",
       "      <td>tageblatt</td>\n",
       "      <td>01</td>\n",
       "    </tr>\n",
       "    <tr>\n",
       "      <th>dunioun-1948-02-03-a-i0078</th>\n",
       "      <td>ad</td>\n",
       "      <td>Publicité 6 Page 6</td>\n",
       "      <td></td>\n",
       "      <td>lb</td>\n",
       "      <td>1948-02-03</td>\n",
       "      <td>dunioun</td>\n",
       "      <td>02</td>\n",
       "    </tr>\n",
       "    <tr>\n",
       "      <th>luxwort-1949-01-21-a-i0134</th>\n",
       "      <td>ad</td>\n",
       "      <td>Pub. 68 Page 9</td>\n",
       "      <td></td>\n",
       "      <td>de</td>\n",
       "      <td>1949-01-21</td>\n",
       "      <td>luxwort</td>\n",
       "      <td>01</td>\n",
       "    </tr>\n",
       "    <tr>\n",
       "      <th>tageblatt-1935-06-25-a-i0081</th>\n",
       "      <td>ad</td>\n",
       "      <td>I~J~Ji i Mercredi, le 26</td>\n",
       "      <td></td>\n",
       "      <td>de</td>\n",
       "      <td>1935-06-25</td>\n",
       "      <td>tageblatt</td>\n",
       "      <td>06</td>\n",
       "    </tr>\n",
       "  </tbody>\n",
       "</table>\n",
       "</div>"
      ],
      "text/plain": [
       "                             type                                   title  \\\n",
       "uid                                                                         \n",
       "tageblatt-1948-01-06-a-i0087   ad           Gemeinde Kayi vergibt auf dem   \n",
       "tageblatt-1939-01-30-a-i0100   ad  CARNAVAL DE NICE Arrangements speciaux   \n",
       "dunioun-1948-02-03-a-i0078     ad                      Publicité 6 Page 6   \n",
       "luxwort-1949-01-21-a-i0134     ad                          Pub. 68 Page 9   \n",
       "tageblatt-1935-06-25-a-i0081   ad                I~J~Ji i Mercredi, le 26   \n",
       "\n",
       "                             transcript languageCode publicationDate  \\\n",
       "uid                                                                    \n",
       "tageblatt-1948-01-06-a-i0087                      de      1948-01-06   \n",
       "tageblatt-1939-01-30-a-i0100                      de      1939-01-30   \n",
       "dunioun-1948-02-03-a-i0078                        lb      1948-02-03   \n",
       "luxwort-1949-01-21-a-i0134                        de      1949-01-21   \n",
       "tageblatt-1935-06-25-a-i0081                      de      1935-06-25   \n",
       "\n",
       "                              mediaCode publicationMonth  \n",
       "uid                                                       \n",
       "tageblatt-1948-01-06-a-i0087  tageblatt               01  \n",
       "tageblatt-1939-01-30-a-i0100  tageblatt               01  \n",
       "dunioun-1948-02-03-a-i0078      dunioun               02  \n",
       "luxwort-1949-01-21-a-i0134      luxwort               01  \n",
       "tageblatt-1935-06-25-a-i0081  tageblatt               06  "
      ]
     },
     "execution_count": 97,
     "metadata": {},
     "output_type": "execute_result"
    }
   ],
   "source": [
    "# Ensure we are working on the original DataFrame, not a view\n",
    "df = df.copy()\n",
    "# Create a new column 'publicationMonth' extracting the month in 'MM' format from 'publicationDate'\n",
    "df.loc[:, 'publicationMonth'] = pd.to_datetime(df['publicationDate'], errors='coerce').dt.strftime('%m')\n",
    "df.head()"
   ]
  },
  {
   "cell_type": "code",
   "execution_count": 99,
   "metadata": {},
   "outputs": [],
   "source": [
    "df.to_csv('dataset/all_collections_clean.csv', index=True)"
   ]
  },
  {
   "cell_type": "code",
   "execution_count": 101,
   "metadata": {},
   "outputs": [
    {
     "data": {
      "application/vnd.plotly.v1+json": {
       "config": {
        "plotlyServerURL": "https://plot.ly"
       },
       "data": [
        {
         "customdata": [
          [
           "Jan"
          ],
          [
           "Feb"
          ],
          [
           "Mar"
          ],
          [
           "Apr"
          ],
          [
           "May"
          ],
          [
           "Jun"
          ],
          [
           "Jul"
          ],
          [
           "Aug"
          ],
          [
           "Sep"
          ],
          [
           "Oct"
          ],
          [
           "Nov"
          ],
          [
           "Dec"
          ]
         ],
         "domain": {
          "x": [
           0,
           1
          ],
          "y": [
           0,
           1
          ]
         },
         "hovertemplate": "label=%{label}<br>value=%{value}<br>color=%{customdata[0]}<extra></extra>",
         "labels": [
          "Jan",
          "Feb",
          "Mar",
          "Apr",
          "May",
          "Jun",
          "Jul",
          "Aug",
          "Sep",
          "Oct",
          "Nov",
          "Dec"
         ],
         "legendgroup": "",
         "marker": {
          "colors": [
           "#636EFA",
           "#EF553B",
           "#00CC96",
           "#AB63FA",
           "#FFA15A",
           "#19D3F3",
           "#FF6692",
           "#B6E880",
           "#FF97FF",
           "#FECB52",
           "#636EFA",
           "#EF553B"
          ]
         },
         "name": "",
         "showlegend": true,
         "textinfo": "percent+label",
         "type": "pie",
         "values": [
          206,
          818,
          368,
          24,
          19,
          21,
          47,
          44,
          33,
          36,
          83,
          81
         ]
        }
       ],
       "layout": {
        "legend": {
         "tracegroupgap": 0
        },
        "piecolorway": [
         "#636EFA",
         "#EF553B",
         "#00CC96",
         "#AB63FA",
         "#FFA15A",
         "#19D3F3",
         "#FF6692",
         "#B6E880",
         "#FF97FF",
         "#FECB52"
        ],
        "template": {
         "data": {
          "bar": [
           {
            "error_x": {
             "color": "#2a3f5f"
            },
            "error_y": {
             "color": "#2a3f5f"
            },
            "marker": {
             "line": {
              "color": "#E5ECF6",
              "width": 0.5
             },
             "pattern": {
              "fillmode": "overlay",
              "size": 10,
              "solidity": 0.2
             }
            },
            "type": "bar"
           }
          ],
          "barpolar": [
           {
            "marker": {
             "line": {
              "color": "#E5ECF6",
              "width": 0.5
             },
             "pattern": {
              "fillmode": "overlay",
              "size": 10,
              "solidity": 0.2
             }
            },
            "type": "barpolar"
           }
          ],
          "carpet": [
           {
            "aaxis": {
             "endlinecolor": "#2a3f5f",
             "gridcolor": "white",
             "linecolor": "white",
             "minorgridcolor": "white",
             "startlinecolor": "#2a3f5f"
            },
            "baxis": {
             "endlinecolor": "#2a3f5f",
             "gridcolor": "white",
             "linecolor": "white",
             "minorgridcolor": "white",
             "startlinecolor": "#2a3f5f"
            },
            "type": "carpet"
           }
          ],
          "choropleth": [
           {
            "colorbar": {
             "outlinewidth": 0,
             "ticks": ""
            },
            "type": "choropleth"
           }
          ],
          "contour": [
           {
            "colorbar": {
             "outlinewidth": 0,
             "ticks": ""
            },
            "colorscale": [
             [
              0,
              "#0d0887"
             ],
             [
              0.1111111111111111,
              "#46039f"
             ],
             [
              0.2222222222222222,
              "#7201a8"
             ],
             [
              0.3333333333333333,
              "#9c179e"
             ],
             [
              0.4444444444444444,
              "#bd3786"
             ],
             [
              0.5555555555555556,
              "#d8576b"
             ],
             [
              0.6666666666666666,
              "#ed7953"
             ],
             [
              0.7777777777777778,
              "#fb9f3a"
             ],
             [
              0.8888888888888888,
              "#fdca26"
             ],
             [
              1,
              "#f0f921"
             ]
            ],
            "type": "contour"
           }
          ],
          "contourcarpet": [
           {
            "colorbar": {
             "outlinewidth": 0,
             "ticks": ""
            },
            "type": "contourcarpet"
           }
          ],
          "heatmap": [
           {
            "colorbar": {
             "outlinewidth": 0,
             "ticks": ""
            },
            "colorscale": [
             [
              0,
              "#0d0887"
             ],
             [
              0.1111111111111111,
              "#46039f"
             ],
             [
              0.2222222222222222,
              "#7201a8"
             ],
             [
              0.3333333333333333,
              "#9c179e"
             ],
             [
              0.4444444444444444,
              "#bd3786"
             ],
             [
              0.5555555555555556,
              "#d8576b"
             ],
             [
              0.6666666666666666,
              "#ed7953"
             ],
             [
              0.7777777777777778,
              "#fb9f3a"
             ],
             [
              0.8888888888888888,
              "#fdca26"
             ],
             [
              1,
              "#f0f921"
             ]
            ],
            "type": "heatmap"
           }
          ],
          "heatmapgl": [
           {
            "colorbar": {
             "outlinewidth": 0,
             "ticks": ""
            },
            "colorscale": [
             [
              0,
              "#0d0887"
             ],
             [
              0.1111111111111111,
              "#46039f"
             ],
             [
              0.2222222222222222,
              "#7201a8"
             ],
             [
              0.3333333333333333,
              "#9c179e"
             ],
             [
              0.4444444444444444,
              "#bd3786"
             ],
             [
              0.5555555555555556,
              "#d8576b"
             ],
             [
              0.6666666666666666,
              "#ed7953"
             ],
             [
              0.7777777777777778,
              "#fb9f3a"
             ],
             [
              0.8888888888888888,
              "#fdca26"
             ],
             [
              1,
              "#f0f921"
             ]
            ],
            "type": "heatmapgl"
           }
          ],
          "histogram": [
           {
            "marker": {
             "pattern": {
              "fillmode": "overlay",
              "size": 10,
              "solidity": 0.2
             }
            },
            "type": "histogram"
           }
          ],
          "histogram2d": [
           {
            "colorbar": {
             "outlinewidth": 0,
             "ticks": ""
            },
            "colorscale": [
             [
              0,
              "#0d0887"
             ],
             [
              0.1111111111111111,
              "#46039f"
             ],
             [
              0.2222222222222222,
              "#7201a8"
             ],
             [
              0.3333333333333333,
              "#9c179e"
             ],
             [
              0.4444444444444444,
              "#bd3786"
             ],
             [
              0.5555555555555556,
              "#d8576b"
             ],
             [
              0.6666666666666666,
              "#ed7953"
             ],
             [
              0.7777777777777778,
              "#fb9f3a"
             ],
             [
              0.8888888888888888,
              "#fdca26"
             ],
             [
              1,
              "#f0f921"
             ]
            ],
            "type": "histogram2d"
           }
          ],
          "histogram2dcontour": [
           {
            "colorbar": {
             "outlinewidth": 0,
             "ticks": ""
            },
            "colorscale": [
             [
              0,
              "#0d0887"
             ],
             [
              0.1111111111111111,
              "#46039f"
             ],
             [
              0.2222222222222222,
              "#7201a8"
             ],
             [
              0.3333333333333333,
              "#9c179e"
             ],
             [
              0.4444444444444444,
              "#bd3786"
             ],
             [
              0.5555555555555556,
              "#d8576b"
             ],
             [
              0.6666666666666666,
              "#ed7953"
             ],
             [
              0.7777777777777778,
              "#fb9f3a"
             ],
             [
              0.8888888888888888,
              "#fdca26"
             ],
             [
              1,
              "#f0f921"
             ]
            ],
            "type": "histogram2dcontour"
           }
          ],
          "mesh3d": [
           {
            "colorbar": {
             "outlinewidth": 0,
             "ticks": ""
            },
            "type": "mesh3d"
           }
          ],
          "parcoords": [
           {
            "line": {
             "colorbar": {
              "outlinewidth": 0,
              "ticks": ""
             }
            },
            "type": "parcoords"
           }
          ],
          "pie": [
           {
            "automargin": true,
            "type": "pie"
           }
          ],
          "scatter": [
           {
            "fillpattern": {
             "fillmode": "overlay",
             "size": 10,
             "solidity": 0.2
            },
            "type": "scatter"
           }
          ],
          "scatter3d": [
           {
            "line": {
             "colorbar": {
              "outlinewidth": 0,
              "ticks": ""
             }
            },
            "marker": {
             "colorbar": {
              "outlinewidth": 0,
              "ticks": ""
             }
            },
            "type": "scatter3d"
           }
          ],
          "scattercarpet": [
           {
            "marker": {
             "colorbar": {
              "outlinewidth": 0,
              "ticks": ""
             }
            },
            "type": "scattercarpet"
           }
          ],
          "scattergeo": [
           {
            "marker": {
             "colorbar": {
              "outlinewidth": 0,
              "ticks": ""
             }
            },
            "type": "scattergeo"
           }
          ],
          "scattergl": [
           {
            "marker": {
             "colorbar": {
              "outlinewidth": 0,
              "ticks": ""
             }
            },
            "type": "scattergl"
           }
          ],
          "scattermapbox": [
           {
            "marker": {
             "colorbar": {
              "outlinewidth": 0,
              "ticks": ""
             }
            },
            "type": "scattermapbox"
           }
          ],
          "scatterpolar": [
           {
            "marker": {
             "colorbar": {
              "outlinewidth": 0,
              "ticks": ""
             }
            },
            "type": "scatterpolar"
           }
          ],
          "scatterpolargl": [
           {
            "marker": {
             "colorbar": {
              "outlinewidth": 0,
              "ticks": ""
             }
            },
            "type": "scatterpolargl"
           }
          ],
          "scatterternary": [
           {
            "marker": {
             "colorbar": {
              "outlinewidth": 0,
              "ticks": ""
             }
            },
            "type": "scatterternary"
           }
          ],
          "surface": [
           {
            "colorbar": {
             "outlinewidth": 0,
             "ticks": ""
            },
            "colorscale": [
             [
              0,
              "#0d0887"
             ],
             [
              0.1111111111111111,
              "#46039f"
             ],
             [
              0.2222222222222222,
              "#7201a8"
             ],
             [
              0.3333333333333333,
              "#9c179e"
             ],
             [
              0.4444444444444444,
              "#bd3786"
             ],
             [
              0.5555555555555556,
              "#d8576b"
             ],
             [
              0.6666666666666666,
              "#ed7953"
             ],
             [
              0.7777777777777778,
              "#fb9f3a"
             ],
             [
              0.8888888888888888,
              "#fdca26"
             ],
             [
              1,
              "#f0f921"
             ]
            ],
            "type": "surface"
           }
          ],
          "table": [
           {
            "cells": {
             "fill": {
              "color": "#EBF0F8"
             },
             "line": {
              "color": "white"
             }
            },
            "header": {
             "fill": {
              "color": "#C8D4E3"
             },
             "line": {
              "color": "white"
             }
            },
            "type": "table"
           }
          ]
         },
         "layout": {
          "annotationdefaults": {
           "arrowcolor": "#2a3f5f",
           "arrowhead": 0,
           "arrowwidth": 1
          },
          "autotypenumbers": "strict",
          "coloraxis": {
           "colorbar": {
            "outlinewidth": 0,
            "ticks": ""
           }
          },
          "colorscale": {
           "diverging": [
            [
             0,
             "#8e0152"
            ],
            [
             0.1,
             "#c51b7d"
            ],
            [
             0.2,
             "#de77ae"
            ],
            [
             0.3,
             "#f1b6da"
            ],
            [
             0.4,
             "#fde0ef"
            ],
            [
             0.5,
             "#f7f7f7"
            ],
            [
             0.6,
             "#e6f5d0"
            ],
            [
             0.7,
             "#b8e186"
            ],
            [
             0.8,
             "#7fbc41"
            ],
            [
             0.9,
             "#4d9221"
            ],
            [
             1,
             "#276419"
            ]
           ],
           "sequential": [
            [
             0,
             "#0d0887"
            ],
            [
             0.1111111111111111,
             "#46039f"
            ],
            [
             0.2222222222222222,
             "#7201a8"
            ],
            [
             0.3333333333333333,
             "#9c179e"
            ],
            [
             0.4444444444444444,
             "#bd3786"
            ],
            [
             0.5555555555555556,
             "#d8576b"
            ],
            [
             0.6666666666666666,
             "#ed7953"
            ],
            [
             0.7777777777777778,
             "#fb9f3a"
            ],
            [
             0.8888888888888888,
             "#fdca26"
            ],
            [
             1,
             "#f0f921"
            ]
           ],
           "sequentialminus": [
            [
             0,
             "#0d0887"
            ],
            [
             0.1111111111111111,
             "#46039f"
            ],
            [
             0.2222222222222222,
             "#7201a8"
            ],
            [
             0.3333333333333333,
             "#9c179e"
            ],
            [
             0.4444444444444444,
             "#bd3786"
            ],
            [
             0.5555555555555556,
             "#d8576b"
            ],
            [
             0.6666666666666666,
             "#ed7953"
            ],
            [
             0.7777777777777778,
             "#fb9f3a"
            ],
            [
             0.8888888888888888,
             "#fdca26"
            ],
            [
             1,
             "#f0f921"
            ]
           ]
          },
          "colorway": [
           "#636efa",
           "#EF553B",
           "#00cc96",
           "#ab63fa",
           "#FFA15A",
           "#19d3f3",
           "#FF6692",
           "#B6E880",
           "#FF97FF",
           "#FECB52"
          ],
          "font": {
           "color": "#2a3f5f"
          },
          "geo": {
           "bgcolor": "white",
           "lakecolor": "white",
           "landcolor": "#E5ECF6",
           "showlakes": true,
           "showland": true,
           "subunitcolor": "white"
          },
          "hoverlabel": {
           "align": "left"
          },
          "hovermode": "closest",
          "mapbox": {
           "style": "light"
          },
          "paper_bgcolor": "white",
          "plot_bgcolor": "#E5ECF6",
          "polar": {
           "angularaxis": {
            "gridcolor": "white",
            "linecolor": "white",
            "ticks": ""
           },
           "bgcolor": "#E5ECF6",
           "radialaxis": {
            "gridcolor": "white",
            "linecolor": "white",
            "ticks": ""
           }
          },
          "scene": {
           "xaxis": {
            "backgroundcolor": "#E5ECF6",
            "gridcolor": "white",
            "gridwidth": 2,
            "linecolor": "white",
            "showbackground": true,
            "ticks": "",
            "zerolinecolor": "white"
           },
           "yaxis": {
            "backgroundcolor": "#E5ECF6",
            "gridcolor": "white",
            "gridwidth": 2,
            "linecolor": "white",
            "showbackground": true,
            "ticks": "",
            "zerolinecolor": "white"
           },
           "zaxis": {
            "backgroundcolor": "#E5ECF6",
            "gridcolor": "white",
            "gridwidth": 2,
            "linecolor": "white",
            "showbackground": true,
            "ticks": "",
            "zerolinecolor": "white"
           }
          },
          "shapedefaults": {
           "line": {
            "color": "#2a3f5f"
           }
          },
          "ternary": {
           "aaxis": {
            "gridcolor": "white",
            "linecolor": "white",
            "ticks": ""
           },
           "baxis": {
            "gridcolor": "white",
            "linecolor": "white",
            "ticks": ""
           },
           "bgcolor": "#E5ECF6",
           "caxis": {
            "gridcolor": "white",
            "linecolor": "white",
            "ticks": ""
           }
          },
          "title": {
           "x": 0.05
          },
          "xaxis": {
           "automargin": true,
           "gridcolor": "white",
           "linecolor": "white",
           "ticks": "",
           "title": {
            "standoff": 15
           },
           "zerolinecolor": "white",
           "zerolinewidth": 2
          },
          "yaxis": {
           "automargin": true,
           "gridcolor": "white",
           "linecolor": "white",
           "ticks": "",
           "title": {
            "standoff": 15
           },
           "zerolinecolor": "white",
           "zerolinewidth": 2
          }
         }
        },
        "title": {
         "text": "Publications per Month"
        }
       }
      }
     },
     "metadata": {},
     "output_type": "display_data"
    }
   ],
   "source": [
    "import plotly.express as px\n",
    "\n",
    "# Count the number of publications per month (as string '01', '02', ..., '12')\n",
    "month_counts = df['publicationMonth'].value_counts().sort_index()\n",
    "\n",
    "\n",
    "# Prepare month labels\n",
    "month_labels = ['Jan', 'Feb', 'Mar', 'Apr', 'May', 'Jun',\n",
    "                'Jul', 'Aug', 'Sep', 'Oct', 'Nov', 'Dec']\n",
    "\n",
    "# Ensure all 12 months are present in the data\n",
    "month_counts_full = month_counts.reindex([f\"{i:02d}\" for i in range(1, 13)], fill_value=0)\n",
    "month_counts_full.index = month_labels\n",
    "\n",
    "# Define 12 distinct colors\n",
    "colors = px.colors.qualitative.Plotly[:12]\n",
    "\n",
    "fig = px.pie(\n",
    "    names=month_counts_full.index,\n",
    "    values=month_counts_full.values,\n",
    "    color=month_counts_full.index,\n",
    "    color_discrete_sequence=colors,\n",
    "    title='Publications per Month'\n",
    ")\n",
    "fig.update_traces(textinfo='percent+label')\n",
    "fig.show()"
   ]
  },
  {
   "cell_type": "markdown",
   "metadata": {},
   "source": []
  },
  {
   "cell_type": "code",
   "execution_count": null,
   "metadata": {},
   "outputs": [
    {
     "name": "stderr",
     "output_type": "stream",
     "text": [
      "/var/folders/nh/rc7pmmz52cb_sr450pk7thd0p31hyt/T/ipykernel_34758/744862008.py:4: SettingWithCopyWarning: \n",
      "A value is trying to be set on a copy of a slice from a DataFrame.\n",
      "Try using .loc[row_indexer,col_indexer] = value instead\n",
      "\n",
      "See the caveats in the documentation: https://pandas.pydata.org/pandas-docs/stable/user_guide/indexing.html#returning-a-view-versus-a-copy\n",
      "  df['impressoUrl'] = df.index.to_series().apply(uid_to_url)\n"
     ]
    },
    {
     "data": {
      "text/html": [
       "<div>\n",
       "<style scoped>\n",
       "    .dataframe tbody tr th:only-of-type {\n",
       "        vertical-align: middle;\n",
       "    }\n",
       "\n",
       "    .dataframe tbody tr th {\n",
       "        vertical-align: top;\n",
       "    }\n",
       "\n",
       "    .dataframe thead th {\n",
       "        text-align: right;\n",
       "    }\n",
       "</style>\n",
       "<table border=\"1\" class=\"dataframe\">\n",
       "  <thead>\n",
       "    <tr style=\"text-align: right;\">\n",
       "      <th></th>\n",
       "      <th>type</th>\n",
       "      <th>title</th>\n",
       "      <th>transcript</th>\n",
       "      <th>languageCode</th>\n",
       "      <th>publicationDate</th>\n",
       "      <th>mediaCode</th>\n",
       "      <th>impressoUrl</th>\n",
       "    </tr>\n",
       "    <tr>\n",
       "      <th>uid</th>\n",
       "      <th></th>\n",
       "      <th></th>\n",
       "      <th></th>\n",
       "      <th></th>\n",
       "      <th></th>\n",
       "      <th></th>\n",
       "      <th></th>\n",
       "    </tr>\n",
       "  </thead>\n",
       "  <tbody>\n",
       "    <tr>\n",
       "      <th>tageblatt-1935-06-25-a-i0081</th>\n",
       "      <td>ad</td>\n",
       "      <td>I~J~Ji i Mercredi, le 26</td>\n",
       "      <td></td>\n",
       "      <td>de</td>\n",
       "      <td>1935-06-25</td>\n",
       "      <td>tageblatt</td>\n",
       "      <td>https://impresso-project.ch/app/issue/tageblat...</td>\n",
       "    </tr>\n",
       "    <tr>\n",
       "      <th>tageblatt-1935-08-10-a-i0128</th>\n",
       "      <td>ad</td>\n",
       "      <td>#6 st »y^nfslfeM RADIO LUXEMBOURG</td>\n",
       "      <td></td>\n",
       "      <td>fr</td>\n",
       "      <td>1935-08-10</td>\n",
       "      <td>tageblatt</td>\n",
       "      <td>https://impresso-project.ch/app/issue/tageblat...</td>\n",
       "    </tr>\n",
       "    <tr>\n",
       "      <th>dunioun-1947-03-10-a-i0067</th>\n",
       "      <td>ad</td>\n",
       "      <td>Publicité 2 Page 4</td>\n",
       "      <td></td>\n",
       "      <td>fr</td>\n",
       "      <td>1947-03-10</td>\n",
       "      <td>dunioun</td>\n",
       "      <td>https://impresso-project.ch/app/issue/dunioun-...</td>\n",
       "    </tr>\n",
       "    <tr>\n",
       "      <th>luxembourg1935-1938-02-18-a-i0074</th>\n",
       "      <td>ad</td>\n",
       "      <td>Publicité 5 Page 6</td>\n",
       "      <td></td>\n",
       "      <td>fr</td>\n",
       "      <td>1938-02-18</td>\n",
       "      <td>luxembourg1935</td>\n",
       "      <td>https://impresso-project.ch/app/issue/luxembou...</td>\n",
       "    </tr>\n",
       "    <tr>\n",
       "      <th>dunioun-1948-02-07-a-i0156</th>\n",
       "      <td>ad</td>\n",
       "      <td>Publicité 13 Page 10</td>\n",
       "      <td></td>\n",
       "      <td>fr</td>\n",
       "      <td>1948-02-07</td>\n",
       "      <td>dunioun</td>\n",
       "      <td>https://impresso-project.ch/app/issue/dunioun-...</td>\n",
       "    </tr>\n",
       "  </tbody>\n",
       "</table>\n",
       "</div>"
      ],
      "text/plain": [
       "                                  type                              title  \\\n",
       "uid                                                                         \n",
       "tageblatt-1935-06-25-a-i0081        ad           I~J~Ji i Mercredi, le 26   \n",
       "tageblatt-1935-08-10-a-i0128        ad  #6 st »y^nfslfeM RADIO LUXEMBOURG   \n",
       "dunioun-1947-03-10-a-i0067          ad                 Publicité 2 Page 4   \n",
       "luxembourg1935-1938-02-18-a-i0074   ad                 Publicité 5 Page 6   \n",
       "dunioun-1948-02-07-a-i0156          ad               Publicité 13 Page 10   \n",
       "\n",
       "                                  transcript languageCode publicationDate  \\\n",
       "uid                                                                         \n",
       "tageblatt-1935-06-25-a-i0081                           de      1935-06-25   \n",
       "tageblatt-1935-08-10-a-i0128                           fr      1935-08-10   \n",
       "dunioun-1947-03-10-a-i0067                             fr      1947-03-10   \n",
       "luxembourg1935-1938-02-18-a-i0074                      fr      1938-02-18   \n",
       "dunioun-1948-02-07-a-i0156                             fr      1948-02-07   \n",
       "\n",
       "                                        mediaCode  \\\n",
       "uid                                                 \n",
       "tageblatt-1935-06-25-a-i0081            tageblatt   \n",
       "tageblatt-1935-08-10-a-i0128            tageblatt   \n",
       "dunioun-1947-03-10-a-i0067                dunioun   \n",
       "luxembourg1935-1938-02-18-a-i0074  luxembourg1935   \n",
       "dunioun-1948-02-07-a-i0156                dunioun   \n",
       "\n",
       "                                                                         impressoUrl  \n",
       "uid                                                                                   \n",
       "tageblatt-1935-06-25-a-i0081       https://impresso-project.ch/app/issue/tageblat...  \n",
       "tageblatt-1935-08-10-a-i0128       https://impresso-project.ch/app/issue/tageblat...  \n",
       "dunioun-1947-03-10-a-i0067         https://impresso-project.ch/app/issue/dunioun-...  \n",
       "luxembourg1935-1938-02-18-a-i0074  https://impresso-project.ch/app/issue/luxembou...  \n",
       "dunioun-1948-02-07-a-i0156         https://impresso-project.ch/app/issue/dunioun-...  "
      ]
     },
     "execution_count": 24,
     "metadata": {},
     "output_type": "execute_result"
    }
   ],
   "source": [
    "from script.build_url import uid_to_url\n",
    "\n",
    "# Add a new column 'impressoUrl' by applying uid_to_url to each uid in the index\n",
    "df['impressoUrl'] = df.index.to_series().apply(uid_to_url)\n",
    "df.head()"
   ]
  },
  {
   "cell_type": "markdown",
   "metadata": {},
   "source": [
    "## Extract event"
   ]
  },
  {
   "cell_type": "code",
   "execution_count": null,
   "metadata": {},
   "outputs": [],
   "source": []
  },
  {
   "cell_type": "code",
   "execution_count": 13,
   "metadata": {},
   "outputs": [],
   "source": [
    "# Import the extractor module or class\n",
    "import os\n",
    "from script.event_extractor import EventExtractor\n",
    "from dotenv import load_dotenv\n",
    "# Take from .env\n",
    "# Load environment variables from a .env file\n",
    "load_dotenv()\n",
    "\n",
    "# Retrieve the API key from the environment variable\n",
    "api_key = os.getenv(\"ANTHROPIC_API_KEY\")\n",
    "  \n",
    "    \n",
    "if not api_key:\n",
    "    print(\"Please set your ANTHROPIC_API_KEY environment variable\")\n",
    "\n",
    "    \n",
    "extractor = EventExtractor(api_key)\n",
    "\n",
    "\n",
    "\n",
    "content_item = impresso.content_items.get(\"luxwort-1924-03-01-a-i0045\")\n",
    "key = \"luxwort-1924-03-01-a-i0045\"\n",
    "publicationDate = content_item.pydantic.publicationDate\n",
    "transcript = content_item.pydantic.transcript\n",
    "\n",
    "# Call the method in event_extractor\n",
    "extractor.extract_event_csv(key, transcript, publicationDate)"
   ]
  },
  {
   "cell_type": "code",
   "execution_count": 10,
   "metadata": {},
   "outputs": [
    {
     "data": {
      "text/plain": [
       "'1925-02-21-00:00:00'"
      ]
     },
     "execution_count": 10,
     "metadata": {},
     "output_type": "execute_result"
    }
   ],
   "source": [
    "content_item = impresso.content_items.get(\"luxwort-1925-02-21-a-i0054\")\n",
    "publicationDate = content_item.pydantic.publicationDate\n",
    "formatted_date = publicationDate.strftime('%Y-%m-%d-%H:%M:%S')\n",
    "formatted_date\n"
   ]
  },
  {
   "cell_type": "code",
   "execution_count": 28,
   "metadata": {},
   "outputs": [],
   "source": [
    "# Import the extractor module or class\n",
    "import os\n",
    "from script.event_extractor import EventExtractor\n",
    "from dotenv import load_dotenv\n",
    "# Take from .env\n",
    "# Load environment variables from a .env file\n",
    "load_dotenv()\n",
    "\n",
    "# Retrieve the API key from the environment variable\n",
    "api_key = os.getenv(\"ANTHROPIC_API_KEY\")\n",
    "  \n",
    "    \n",
    "if not api_key:\n",
    "    print(\"Please set your ANTHROPIC_API_KEY environment variable\")\n",
    "\n",
    "    \n",
    "extractor = EventExtractor(api_key)\n",
    "\n",
    "\n",
    "for index, row in df.iterrows():    \n",
    "    content_item = impresso.content_items.get(index)\n",
    "    key = content_item.pydantic.uid\n",
    "    transcript = content_item.pydantic.transcript\n",
    "    publicationDate = content_item.pydantic.publicationDate\n",
    "    # Call the method in event_extractor\n",
    "    extractor.extract_event_csv(key, transcript,publicationDate )"
   ]
  },
  {
   "cell_type": "code",
   "execution_count": 8,
   "metadata": {},
   "outputs": [
    {
     "data": {
      "text/plain": [
       "'Hotel Metropole ♦ Bal Carnavalesque Lundi soil. - Entree libie. '"
      ]
     },
     "execution_count": 8,
     "metadata": {},
     "output_type": "execute_result"
    }
   ],
   "source": [
    "content_item.pydantic.transcript"
   ]
  },
  {
   "cell_type": "markdown",
   "metadata": {},
   "source": [
    "De l'uid , si on veut l'url:\n",
    "tageblatt-1939-02-11-a-i0117\n",
    "\n",
    "https://impresso-project.ch/app/issue/tageblatt-1939-02-11-a/view?p=4&articleId=i0117\n"
   ]
  },
  {
   "cell_type": "code",
   "execution_count": 14,
   "metadata": {},
   "outputs": [
    {
     "data": {
      "text/html": [
       "<div>\n",
       "<style scoped>\n",
       "    .dataframe tbody tr th:only-of-type {\n",
       "        vertical-align: middle;\n",
       "    }\n",
       "\n",
       "    .dataframe tbody tr th {\n",
       "        vertical-align: top;\n",
       "    }\n",
       "\n",
       "    .dataframe thead th {\n",
       "        text-align: right;\n",
       "    }\n",
       "</style>\n",
       "<table border=\"1\" class=\"dataframe\">\n",
       "  <thead>\n",
       "    <tr style=\"text-align: right;\">\n",
       "      <th></th>\n",
       "      <th>type</th>\n",
       "      <th>title</th>\n",
       "      <th>transcript</th>\n",
       "      <th>locations</th>\n",
       "      <th>persons</th>\n",
       "      <th>topics</th>\n",
       "      <th>transcriptLength</th>\n",
       "      <th>totalPages</th>\n",
       "      <th>languageCode</th>\n",
       "      <th>isOnFrontPage</th>\n",
       "      <th>publicationDate</th>\n",
       "      <th>countryCode</th>\n",
       "      <th>dataProviderCode</th>\n",
       "      <th>mediaCode</th>\n",
       "      <th>mediaType</th>\n",
       "    </tr>\n",
       "    <tr>\n",
       "      <th>uid</th>\n",
       "      <th></th>\n",
       "      <th></th>\n",
       "      <th></th>\n",
       "      <th></th>\n",
       "      <th></th>\n",
       "      <th></th>\n",
       "      <th></th>\n",
       "      <th></th>\n",
       "      <th></th>\n",
       "      <th></th>\n",
       "      <th></th>\n",
       "      <th></th>\n",
       "      <th></th>\n",
       "      <th></th>\n",
       "      <th></th>\n",
       "    </tr>\n",
       "  </thead>\n",
       "  <tbody>\n",
       "    <tr>\n",
       "      <th>obermosel-1939-02-18-a-i0159</th>\n",
       "      <td>ad</td>\n",
       "      <td>Publicité 7 Page 3</td>\n",
       "      <td></td>\n",
       "      <td>[]</td>\n",
       "      <td>[]</td>\n",
       "      <td>[{'uid': 'tm-de-all-v2.0_tp19_de', 'relevance'...</td>\n",
       "      <td>10</td>\n",
       "      <td>1</td>\n",
       "      <td>de</td>\n",
       "      <td>False</td>\n",
       "      <td>1939-02-18T00:00:00+00:00</td>\n",
       "      <td>LU</td>\n",
       "      <td>BNL</td>\n",
       "      <td>obermosel</td>\n",
       "      <td>newspaper</td>\n",
       "    </tr>\n",
       "    <tr>\n",
       "      <th>tageblatt-1939-02-11-a-i0117</th>\n",
       "      <td>ad</td>\n",
       "      <td>llflMQ SAMEDI Grande Soiree Carnavalesque</td>\n",
       "      <td></td>\n",
       "      <td>[]</td>\n",
       "      <td>[]</td>\n",
       "      <td>[{'uid': 'tm-de-all-v2.0_tp01_de', 'relevance'...</td>\n",
       "      <td>13</td>\n",
       "      <td>1</td>\n",
       "      <td>de</td>\n",
       "      <td>False</td>\n",
       "      <td>1939-02-11T00:00:00+00:00</td>\n",
       "      <td>LU</td>\n",
       "      <td>BNL</td>\n",
       "      <td>tageblatt</td>\n",
       "      <td>newspaper</td>\n",
       "    </tr>\n",
       "    <tr>\n",
       "      <th>tageblatt-1950-03-18-a-i0187</th>\n",
       "      <td>ad</td>\n",
       "      <td>POLE NORD LUXEMBOURG DIMANCHE, M</td>\n",
       "      <td></td>\n",
       "      <td>[{'uid': 'aida-0001-54-Nord_$28$French_departm...</td>\n",
       "      <td>[]</td>\n",
       "      <td>[{'uid': 'tm-de-all-v2.0_tp00_de', 'relevance'...</td>\n",
       "      <td>15</td>\n",
       "      <td>1</td>\n",
       "      <td>de</td>\n",
       "      <td>False</td>\n",
       "      <td>1950-03-18T00:00:00+00:00</td>\n",
       "      <td>LU</td>\n",
       "      <td>BNL</td>\n",
       "      <td>tageblatt</td>\n",
       "      <td>newspaper</td>\n",
       "    </tr>\n",
       "    <tr>\n",
       "      <th>tageblatt-1930-02-27-a-i0106</th>\n",
       "      <td>ad</td>\n",
       "      <td>SOUPER CARNAVALESQUE au PARIS-PALACE chez</td>\n",
       "      <td></td>\n",
       "      <td>[{'uid': 'aida-0001-54-Luxembourg', 'relevance...</td>\n",
       "      <td>[]</td>\n",
       "      <td>[{'uid': 'tm-de-all-v2.0_tp02_de', 'relevance'...</td>\n",
       "      <td>21</td>\n",
       "      <td>1</td>\n",
       "      <td>de</td>\n",
       "      <td>False</td>\n",
       "      <td>1930-02-27T00:00:00+00:00</td>\n",
       "      <td>LU</td>\n",
       "      <td>BNL</td>\n",
       "      <td>tageblatt</td>\n",
       "      <td>newspaper</td>\n",
       "    </tr>\n",
       "    <tr>\n",
       "      <th>tageblatt-1936-02-22-a-i0120</th>\n",
       "      <td>ad</td>\n",
       "      <td>ASSOCIATION DES COMMERQANTS ESCH. SOIREE</td>\n",
       "      <td></td>\n",
       "      <td>[]</td>\n",
       "      <td>[]</td>\n",
       "      <td>[{'uid': 'tm-de-all-v2.0_tp02_de', 'relevance'...</td>\n",
       "      <td>23</td>\n",
       "      <td>1</td>\n",
       "      <td>de</td>\n",
       "      <td>False</td>\n",
       "      <td>1936-02-22T00:00:00+00:00</td>\n",
       "      <td>LU</td>\n",
       "      <td>BNL</td>\n",
       "      <td>tageblatt</td>\n",
       "      <td>newspaper</td>\n",
       "    </tr>\n",
       "    <tr>\n",
       "      <th>...</th>\n",
       "      <td>...</td>\n",
       "      <td>...</td>\n",
       "      <td>...</td>\n",
       "      <td>...</td>\n",
       "      <td>...</td>\n",
       "      <td>...</td>\n",
       "      <td>...</td>\n",
       "      <td>...</td>\n",
       "      <td>...</td>\n",
       "      <td>...</td>\n",
       "      <td>...</td>\n",
       "      <td>...</td>\n",
       "      <td>...</td>\n",
       "      <td>...</td>\n",
       "      <td>...</td>\n",
       "    </tr>\n",
       "    <tr>\n",
       "      <th>indeplux-1893-02-07-a-i0019</th>\n",
       "      <td>ad</td>\n",
       "      <td>Publicité 3 Page 4</td>\n",
       "      <td></td>\n",
       "      <td>[{'uid': 'aida-0001-54-Eisbären_Berlin', 'rele...</td>\n",
       "      <td>[{'uid': 'aida-0001-50-Jason_Mercier', 'releva...</td>\n",
       "      <td>[{'uid': 'tm-fr-all-v2.0_tp39_fr', 'relevance'...</td>\n",
       "      <td>705</td>\n",
       "      <td>1</td>\n",
       "      <td>fr</td>\n",
       "      <td>False</td>\n",
       "      <td>1893-02-07T00:00:00+00:00</td>\n",
       "      <td>LU</td>\n",
       "      <td>BNL</td>\n",
       "      <td>indeplux</td>\n",
       "      <td>newspaper</td>\n",
       "    </tr>\n",
       "    <tr>\n",
       "      <th>luxwort-1883-01-24-a-i0014</th>\n",
       "      <td>ad</td>\n",
       "      <td>Pub. 1 Page 4</td>\n",
       "      <td></td>\n",
       "      <td>[{'uid': 'aida-0001-54-Nord_$28$French_departm...</td>\n",
       "      <td>[]</td>\n",
       "      <td>[{'uid': 'tm-de-all-v2.0_tp11_de', 'relevance'...</td>\n",
       "      <td>1978</td>\n",
       "      <td>1</td>\n",
       "      <td>de</td>\n",
       "      <td>False</td>\n",
       "      <td>1883-01-24T00:00:00+00:00</td>\n",
       "      <td>LU</td>\n",
       "      <td>BNL</td>\n",
       "      <td>luxwort</td>\n",
       "      <td>newspaper</td>\n",
       "    </tr>\n",
       "    <tr>\n",
       "      <th>luxwort-1925-02-21-a-i0053</th>\n",
       "      <td>ad</td>\n",
       "      <td>Pub. 18 Page 5</td>\n",
       "      <td></td>\n",
       "      <td>[{'uid': 'aida-0001-54-Volkswagen_Type_2', 're...</td>\n",
       "      <td>[]</td>\n",
       "      <td>[{'uid': 'tm-de-all-v2.0_tp02_de', 'relevance'...</td>\n",
       "      <td>1841</td>\n",
       "      <td>1</td>\n",
       "      <td>de</td>\n",
       "      <td>False</td>\n",
       "      <td>1925-02-21T00:00:00+00:00</td>\n",
       "      <td>LU</td>\n",
       "      <td>BNL</td>\n",
       "      <td>luxwort</td>\n",
       "      <td>newspaper</td>\n",
       "    </tr>\n",
       "    <tr>\n",
       "      <th>luxwort-1924-03-01-a-i0045</th>\n",
       "      <td>ad</td>\n",
       "      <td>Pub. 20 Page 6</td>\n",
       "      <td></td>\n",
       "      <td>[{'uid': 'aida-0001-54-Luxembourg', 'relevance...</td>\n",
       "      <td>[{'uid': 'aida-0001-50-Corrie_Winkel', 'releva...</td>\n",
       "      <td>[{'uid': 'tm-de-all-v2.0_tp02_de', 'relevance'...</td>\n",
       "      <td>2436</td>\n",
       "      <td>1</td>\n",
       "      <td>de</td>\n",
       "      <td>False</td>\n",
       "      <td>1924-03-01T00:00:00+00:00</td>\n",
       "      <td>LU</td>\n",
       "      <td>BNL</td>\n",
       "      <td>luxwort</td>\n",
       "      <td>newspaper</td>\n",
       "    </tr>\n",
       "    <tr>\n",
       "      <th>luxwort-1925-02-21-a-i0054</th>\n",
       "      <td>ad</td>\n",
       "      <td>Pub. 19 Page 6</td>\n",
       "      <td></td>\n",
       "      <td>[{'uid': 'aida-0001-54-Fortuna_Düsseldorf', 'r...</td>\n",
       "      <td>[]</td>\n",
       "      <td>[{'uid': 'tm-de-all-v2.0_tp02_de', 'relevance'...</td>\n",
       "      <td>3170</td>\n",
       "      <td>1</td>\n",
       "      <td>de</td>\n",
       "      <td>False</td>\n",
       "      <td>1925-02-21T00:00:00+00:00</td>\n",
       "      <td>LU</td>\n",
       "      <td>BNL</td>\n",
       "      <td>luxwort</td>\n",
       "      <td>newspaper</td>\n",
       "    </tr>\n",
       "  </tbody>\n",
       "</table>\n",
       "<p>85 rows × 15 columns</p>\n",
       "</div>"
      ],
      "text/plain": [
       "                             type                                      title  \\\n",
       "uid                                                                            \n",
       "obermosel-1939-02-18-a-i0159   ad                         Publicité 7 Page 3   \n",
       "tageblatt-1939-02-11-a-i0117   ad  llflMQ SAMEDI Grande Soiree Carnavalesque   \n",
       "tageblatt-1950-03-18-a-i0187   ad           POLE NORD LUXEMBOURG DIMANCHE, M   \n",
       "tageblatt-1930-02-27-a-i0106   ad  SOUPER CARNAVALESQUE au PARIS-PALACE chez   \n",
       "tageblatt-1936-02-22-a-i0120   ad   ASSOCIATION DES COMMERQANTS ESCH. SOIREE   \n",
       "...                           ...                                        ...   \n",
       "indeplux-1893-02-07-a-i0019    ad                         Publicité 3 Page 4   \n",
       "luxwort-1883-01-24-a-i0014     ad                              Pub. 1 Page 4   \n",
       "luxwort-1925-02-21-a-i0053     ad                             Pub. 18 Page 5   \n",
       "luxwort-1924-03-01-a-i0045     ad                             Pub. 20 Page 6   \n",
       "luxwort-1925-02-21-a-i0054     ad                             Pub. 19 Page 6   \n",
       "\n",
       "                             transcript  \\\n",
       "uid                                       \n",
       "obermosel-1939-02-18-a-i0159              \n",
       "tageblatt-1939-02-11-a-i0117              \n",
       "tageblatt-1950-03-18-a-i0187              \n",
       "tageblatt-1930-02-27-a-i0106              \n",
       "tageblatt-1936-02-22-a-i0120              \n",
       "...                                 ...   \n",
       "indeplux-1893-02-07-a-i0019               \n",
       "luxwort-1883-01-24-a-i0014                \n",
       "luxwort-1925-02-21-a-i0053                \n",
       "luxwort-1924-03-01-a-i0045                \n",
       "luxwort-1925-02-21-a-i0054                \n",
       "\n",
       "                                                                      locations  \\\n",
       "uid                                                                               \n",
       "obermosel-1939-02-18-a-i0159                                                 []   \n",
       "tageblatt-1939-02-11-a-i0117                                                 []   \n",
       "tageblatt-1950-03-18-a-i0187  [{'uid': 'aida-0001-54-Nord_$28$French_departm...   \n",
       "tageblatt-1930-02-27-a-i0106  [{'uid': 'aida-0001-54-Luxembourg', 'relevance...   \n",
       "tageblatt-1936-02-22-a-i0120                                                 []   \n",
       "...                                                                         ...   \n",
       "indeplux-1893-02-07-a-i0019   [{'uid': 'aida-0001-54-Eisbären_Berlin', 'rele...   \n",
       "luxwort-1883-01-24-a-i0014    [{'uid': 'aida-0001-54-Nord_$28$French_departm...   \n",
       "luxwort-1925-02-21-a-i0053    [{'uid': 'aida-0001-54-Volkswagen_Type_2', 're...   \n",
       "luxwort-1924-03-01-a-i0045    [{'uid': 'aida-0001-54-Luxembourg', 'relevance...   \n",
       "luxwort-1925-02-21-a-i0054    [{'uid': 'aida-0001-54-Fortuna_Düsseldorf', 'r...   \n",
       "\n",
       "                                                                        persons  \\\n",
       "uid                                                                               \n",
       "obermosel-1939-02-18-a-i0159                                                 []   \n",
       "tageblatt-1939-02-11-a-i0117                                                 []   \n",
       "tageblatt-1950-03-18-a-i0187                                                 []   \n",
       "tageblatt-1930-02-27-a-i0106                                                 []   \n",
       "tageblatt-1936-02-22-a-i0120                                                 []   \n",
       "...                                                                         ...   \n",
       "indeplux-1893-02-07-a-i0019   [{'uid': 'aida-0001-50-Jason_Mercier', 'releva...   \n",
       "luxwort-1883-01-24-a-i0014                                                   []   \n",
       "luxwort-1925-02-21-a-i0053                                                   []   \n",
       "luxwort-1924-03-01-a-i0045    [{'uid': 'aida-0001-50-Corrie_Winkel', 'releva...   \n",
       "luxwort-1925-02-21-a-i0054                                                   []   \n",
       "\n",
       "                                                                         topics  \\\n",
       "uid                                                                               \n",
       "obermosel-1939-02-18-a-i0159  [{'uid': 'tm-de-all-v2.0_tp19_de', 'relevance'...   \n",
       "tageblatt-1939-02-11-a-i0117  [{'uid': 'tm-de-all-v2.0_tp01_de', 'relevance'...   \n",
       "tageblatt-1950-03-18-a-i0187  [{'uid': 'tm-de-all-v2.0_tp00_de', 'relevance'...   \n",
       "tageblatt-1930-02-27-a-i0106  [{'uid': 'tm-de-all-v2.0_tp02_de', 'relevance'...   \n",
       "tageblatt-1936-02-22-a-i0120  [{'uid': 'tm-de-all-v2.0_tp02_de', 'relevance'...   \n",
       "...                                                                         ...   \n",
       "indeplux-1893-02-07-a-i0019   [{'uid': 'tm-fr-all-v2.0_tp39_fr', 'relevance'...   \n",
       "luxwort-1883-01-24-a-i0014    [{'uid': 'tm-de-all-v2.0_tp11_de', 'relevance'...   \n",
       "luxwort-1925-02-21-a-i0053    [{'uid': 'tm-de-all-v2.0_tp02_de', 'relevance'...   \n",
       "luxwort-1924-03-01-a-i0045    [{'uid': 'tm-de-all-v2.0_tp02_de', 'relevance'...   \n",
       "luxwort-1925-02-21-a-i0054    [{'uid': 'tm-de-all-v2.0_tp02_de', 'relevance'...   \n",
       "\n",
       "                              transcriptLength  totalPages languageCode  \\\n",
       "uid                                                                       \n",
       "obermosel-1939-02-18-a-i0159                10           1           de   \n",
       "tageblatt-1939-02-11-a-i0117                13           1           de   \n",
       "tageblatt-1950-03-18-a-i0187                15           1           de   \n",
       "tageblatt-1930-02-27-a-i0106                21           1           de   \n",
       "tageblatt-1936-02-22-a-i0120                23           1           de   \n",
       "...                                        ...         ...          ...   \n",
       "indeplux-1893-02-07-a-i0019                705           1           fr   \n",
       "luxwort-1883-01-24-a-i0014                1978           1           de   \n",
       "luxwort-1925-02-21-a-i0053                1841           1           de   \n",
       "luxwort-1924-03-01-a-i0045                2436           1           de   \n",
       "luxwort-1925-02-21-a-i0054                3170           1           de   \n",
       "\n",
       "                              isOnFrontPage            publicationDate  \\\n",
       "uid                                                                      \n",
       "obermosel-1939-02-18-a-i0159          False  1939-02-18T00:00:00+00:00   \n",
       "tageblatt-1939-02-11-a-i0117          False  1939-02-11T00:00:00+00:00   \n",
       "tageblatt-1950-03-18-a-i0187          False  1950-03-18T00:00:00+00:00   \n",
       "tageblatt-1930-02-27-a-i0106          False  1930-02-27T00:00:00+00:00   \n",
       "tageblatt-1936-02-22-a-i0120          False  1936-02-22T00:00:00+00:00   \n",
       "...                                     ...                        ...   \n",
       "indeplux-1893-02-07-a-i0019           False  1893-02-07T00:00:00+00:00   \n",
       "luxwort-1883-01-24-a-i0014            False  1883-01-24T00:00:00+00:00   \n",
       "luxwort-1925-02-21-a-i0053            False  1925-02-21T00:00:00+00:00   \n",
       "luxwort-1924-03-01-a-i0045            False  1924-03-01T00:00:00+00:00   \n",
       "luxwort-1925-02-21-a-i0054            False  1925-02-21T00:00:00+00:00   \n",
       "\n",
       "                             countryCode dataProviderCode  mediaCode  \\\n",
       "uid                                                                    \n",
       "obermosel-1939-02-18-a-i0159          LU              BNL  obermosel   \n",
       "tageblatt-1939-02-11-a-i0117          LU              BNL  tageblatt   \n",
       "tageblatt-1950-03-18-a-i0187          LU              BNL  tageblatt   \n",
       "tageblatt-1930-02-27-a-i0106          LU              BNL  tageblatt   \n",
       "tageblatt-1936-02-22-a-i0120          LU              BNL  tageblatt   \n",
       "...                                  ...              ...        ...   \n",
       "indeplux-1893-02-07-a-i0019           LU              BNL   indeplux   \n",
       "luxwort-1883-01-24-a-i0014            LU              BNL    luxwort   \n",
       "luxwort-1925-02-21-a-i0053            LU              BNL    luxwort   \n",
       "luxwort-1924-03-01-a-i0045            LU              BNL    luxwort   \n",
       "luxwort-1925-02-21-a-i0054            LU              BNL    luxwort   \n",
       "\n",
       "                              mediaType  \n",
       "uid                                      \n",
       "obermosel-1939-02-18-a-i0159  newspaper  \n",
       "tageblatt-1939-02-11-a-i0117  newspaper  \n",
       "tageblatt-1950-03-18-a-i0187  newspaper  \n",
       "tageblatt-1930-02-27-a-i0106  newspaper  \n",
       "tageblatt-1936-02-22-a-i0120  newspaper  \n",
       "...                                 ...  \n",
       "indeplux-1893-02-07-a-i0019   newspaper  \n",
       "luxwort-1883-01-24-a-i0014    newspaper  \n",
       "luxwort-1925-02-21-a-i0053    newspaper  \n",
       "luxwort-1924-03-01-a-i0045    newspaper  \n",
       "luxwort-1925-02-21-a-i0054    newspaper  \n",
       "\n",
       "[85 rows x 15 columns]"
      ]
     },
     "execution_count": 14,
     "metadata": {},
     "output_type": "execute_result"
    }
   ],
   "source": [
    "df"
   ]
  },
  {
   "cell_type": "code",
   "execution_count": 29,
   "metadata": {},
   "outputs": [
    {
     "data": {
      "image/png": "[encoded data removed]",
      "text/plain": [
       "<Figure size 800x500 with 1 Axes>"
      ]
     },
     "metadata": {},
     "output_type": "display_data"
    }
   ],
   "source": [
    "import pandas as pd\n",
    "import matplotlib.pyplot as plt\n",
    "# Load the CSV file\n",
    "events_df = pd.read_csv('event.csv')\n",
    "\n",
    "# Extract the month from the publication date\n",
    "# Use 'mixed' format to handle both \"%Y-%m-%d\" and \"%Y-%m-%d-%H:%M:%S\"\n",
    "events_df['month'] = pd.to_datetime(events_df['publication_date'], format='mixed', errors='coerce').dt.month\n",
    "# Adjust the date parsing to match the format in your CSV\n",
    "# Try parsing with '%Y-%m-%d' instead of '%Y-%m-%d-%H:%M:%S'\n",
    "\n",
    "\n",
    "# Count the number of events per month\n",
    "month_counts = events_df['month'].value_counts().sort_index()\n",
    "\n",
    "# Plot the repartition of events by month\n",
    "plt.figure(figsize=(8, 5))\n",
    "month_counts.plot(kind='bar')\n",
    "plt.xlabel('Month')\n",
    "plt.ylabel('Number of Events')\n",
    "plt.title('Repartition of Events by Month')\n",
    "plt.xticks(ticks=range(0,12), labels=[\n",
    "    'Jan', 'Feb', 'Mar', 'Apr', 'May', 'Jun',\n",
    "    'Jul', 'Aug', 'Sep', 'Oct', 'Nov', 'Dec'\n",
    "], rotation=0)\n",
    "plt.tight_layout()\n",
    "plt.show()"
   ]
  },
  {
   "cell_type": "code",
   "execution_count": 30,
   "metadata": {},
   "outputs": [
    {
     "data": {
      "image/png": "[encoded data removed]",
      "text/plain": [
       "<Figure size 800x800 with 1 Axes>"
      ]
     },
     "metadata": {},
     "output_type": "display_data"
    }
   ],
   "source": [
    "import matplotlib.pyplot as plt\n",
    "\n",
    "# Count the occurrences of each organizer\n",
    "organizer_counts = events_df['organizer'].value_counts().head(10)\n",
    "# Replace NaN values in the 'organizer' column with 'Unknown'\n",
    "organizer_counts = events_df['organizer'].fillna('Unknown').value_counts().head(10)\n",
    "# Plot a pie chart\n",
    "plt.figure(figsize=(8, 8))\n",
    "organizer_counts.plot(kind='pie', autopct='%1.1f%%', colors=plt.cm.tab10.colors)\n",
    "plt.ylabel('')\n",
    "plt.title('Repartition by the 10 Most Present Organizers')\n",
    "plt.show()"
   ]
  },
  {
   "cell_type": "code",
   "execution_count": 31,
   "metadata": {},
   "outputs": [
    {
     "data": {
      "image/png": "[encoded data removed]",
      "text/plain": [
       "<Figure size 800x800 with 1 Axes>"
      ]
     },
     "metadata": {},
     "output_type": "display_data"
    }
   ],
   "source": [
    "import matplotlib.pyplot as plt\n",
    "\n",
    "# Replace NaN values in 'place' and 'organizer' columns with 'Unknown'\n",
    "events_df['place'] = events_df['place'].fillna('Unknown')\n",
    "\n",
    "\n",
    "# Count the occurrences of each place, considering only the 10 most frequent\n",
    "place_counts = events_df['place'].value_counts().head(10)\n",
    "\n",
    "# Plot a pie chart for the 10 most present places\n",
    "plt.figure(figsize=(8, 8))\n",
    "place_counts.plot(kind='pie', autopct='%1.1f%%', colors=plt.cm.tab10.colors)\n",
    "plt.ylabel('')\n",
    "plt.title('Repartition by the 10 Most Present Places')\n",
    "plt.show()"
   ]
  },
  {
   "cell_type": "code",
   "execution_count": 34,
   "metadata": {},
   "outputs": [
    {
     "data": {
      "image/png": "[encoded data removed]",
      "text/plain": [
       "<Figure size 1000x600 with 1 Axes>"
      ]
     },
     "metadata": {},
     "output_type": "display_data"
    }
   ],
   "source": [
    "import matplotlib.pyplot as plt\n",
    "# Fill missing years with 0 events\n",
    "all_years = range(int(events_df['year'].min()), int(events_df['year'].max()) + 1)\n",
    "year_counts = year_counts.reindex(all_years, fill_value=0)\n",
    "# Extract the year from the publication_date or event_date\n",
    "events_df['year'] = pd.to_datetime(events_df['event_date'].fillna(events_df['publication_date']), errors='coerce').dt.year\n",
    "\n",
    "# Count the number of events per year\n",
    "year_counts = events_df['year'].value_counts().sort_index()\n",
    "\n",
    "# Plot the repartition of events by year\n",
    "plt.figure(figsize=(10, 6))\n",
    "year_counts.plot(kind='bar')\n",
    "plt.xlabel('Year')\n",
    "plt.ylabel('Number of Events')\n",
    "plt.title('Repartition of Events by Year')\n",
    "plt.tight_layout()\n",
    "plt.show()"
   ]
  },
  {
   "cell_type": "code",
   "execution_count": 37,
   "metadata": {
    "vscode": {
     "languageId": "markdown"
    }
   },
   "outputs": [],
   "source": [
    "\n",
    "import pandas as pd\n",
    "\n",
    "# Load the CSV file\n",
    "events_df = pd.read_csv('event.csv')\n",
    "\n",
    "# Add a 'year' column based on 'event_date' if available, otherwise 'publication_date'\n",
    "events_df['year'] = pd.to_datetime(\n",
    "    events_df['event_date'].fillna(events_df['publication_date']),\n",
    "    errors='coerce'\n",
    ").dt.year\n",
    "\n",
    "# Save the updated dataframe back to event.csv\n",
    "events_df.to_csv('event.csv', index=False)\n",
    "\n"
   ]
  },
  {
   "cell_type": "markdown",
   "metadata": {},
   "source": [
    "# References"
   ]
  },
  {
   "cell_type": "markdown",
   "metadata": {
    "vscode": {
     "languageId": "markdown"
    }
   },
   "source": [
    "- Visualisation, [flourish](https://app.flourish.studio/templates)\n",
    "- Video training LLM\n",
    "    * Lesson 1: https://videos.uni.lu/media/LLM+Teaching+C2DH+-+Gabor+Toth+-+Lesson+1/1_qm33o547\n",
    "    * Lesson 2: https://videos.uni.lu/media/EDU-2025-03-05-LLM+Teaching+C2DH+-+Gabor+Toth+Lesson+2/1_412j7z2a\n",
    "    * Lesson 3: https://videos.uni.lu/media/EDU-2025-03-05-LLM+Teaching+C2DH+-+Gabor+Toth+Lesson+3/1_rfs7gjgt\n",
    "- Notion event from Sarah Oberlicher /Users/elisabeth.guerard/Documents/meetings/meeting/AI working group/Hands-on History -Argumentative Patterns in the 1908 Messina Earthquake News Coverage.md\n",
    "- Laura Steil "
   ]
  },
  {
   "cell_type": "code",
   "execution_count": null,
   "metadata": {
    "vscode": {
     "languageId": "markdown"
    }
   },
   "outputs": [],
   "source": []
  }
 ],
 "metadata": {
  "celltoolbar": "Tags",
  "citation-manager": {
   "items": {}
  },
  "jupytext": {
   "formats": "ipynb,md"
  },
  "kernelspec": {
   "display_name": "base",
   "language": "python",
   "name": "python3"
  },
  "language_info": {
   "codemirror_mode": {
    "name": "ipython",
    "version": 3
   },
   "file_extension": ".py",
   "mimetype": "text/x-python",
   "name": "python",
   "nbconvert_exporter": "python",
   "pygments_lexer": "ipython3",
   "version": "3.12.7"
  },
  "toc": {
   "base_numbering": 1,
   "nav_menu": {},
   "number_sections": true,
   "sideBar": true,
   "skip_h1_title": false,
   "title_cell": "Table of Contents",
   "title_sidebar": "Contents",
   "toc_cell": false,
   "toc_position": {},
   "toc_section_display": true,
   "toc_window_display": false
  }
 },
 "nbformat": 4,
 "nbformat_minor": 4
}
